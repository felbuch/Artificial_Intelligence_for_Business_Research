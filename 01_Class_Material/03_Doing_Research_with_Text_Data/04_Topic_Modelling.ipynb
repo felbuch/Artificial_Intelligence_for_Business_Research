{
 "cells": [
  {
   "cell_type": "markdown",
   "id": "8fc454c2-7d64-4b69-b710-dc638602b6a4",
   "metadata": {},
   "source": [
    "# Topic modelling"
   ]
  },
  {
   "cell_type": "markdown",
   "id": "7d7dd693-3159-4161-bbfa-b0bc698d2c52",
   "metadata": {},
   "source": [
    "## Import packages"
   ]
  },
  {
   "cell_type": "code",
   "execution_count": 126,
   "id": "ebacb35d-579a-4055-91ec-a0217f42e2d3",
   "metadata": {},
   "outputs": [],
   "source": [
    "from sklearn.feature_extraction.text import CountVectorizer, TfidfTransformer\n",
    "from sklearn.decomposition import LatentDirichletAllocation as LDA\n",
    "from nltk.corpus import stopwords\n",
    "\n",
    "import pandas as pd\n",
    "import matplotlib.pyplot as plt"
   ]
  },
  {
   "cell_type": "markdown",
   "id": "5c14d10f-14ed-400c-b351-536aca01ca5f",
   "metadata": {},
   "source": [
    "## Get (toy) dataset"
   ]
  },
  {
   "cell_type": "code",
   "execution_count": 127,
   "id": "11fe2455-6fcd-43b6-b793-f940d50995f7",
   "metadata": {},
   "outputs": [],
   "source": [
    "corpus = [ \"Rafael Nadal Joins Roger Federer in Missing U.S. Open\",\n",
    "          \"Rafael Nadal Is Out of the Australian Open\",\n",
    "          \"Biden Announces Virus Measures\",\n",
    "          \"Biden's Virus Plans Meet Reality\",\n",
    "          \"Where Biden's Virus Plan Stands\"]"
   ]
  },
  {
   "cell_type": "markdown",
   "id": "212d0723-a208-4e55-aca4-ce100b1de874",
   "metadata": {},
   "source": [
    "## Preprocess data"
   ]
  },
  {
   "cell_type": "code",
   "execution_count": 128,
   "id": "df93d81f-4322-462d-a761-a162ec283e0a",
   "metadata": {},
   "outputs": [],
   "source": [
    "vectorizer = CountVectorizer(stop_words=stopwords.words('english'), lowercase=True)\n",
    "dtm = vectorizer.fit_transform(corpus)\n",
    "\n",
    "#print(dtm.todense())\n",
    "#print(vectorizer.get_feature_names_out())"
   ]
  },
  {
   "cell_type": "code",
   "execution_count": 129,
   "id": "30461011-dc5d-47ee-9905-3e9795427bb3",
   "metadata": {},
   "outputs": [],
   "source": [
    "tfidf_transformer = TfidfTransformer()\n",
    "tfidf = tfidf_transformer.fit_transform(dtm)\n",
    "#print(tfidf.todense())"
   ]
  },
  {
   "cell_type": "markdown",
   "id": "ea65cebc-52f8-4abc-86b9-813258034829",
   "metadata": {},
   "source": [
    "## Topic modelling"
   ]
  },
  {
   "cell_type": "code",
   "execution_count": 130,
   "id": "550339c8-df4a-45fa-9115-0dc4dc8917e0",
   "metadata": {},
   "outputs": [],
   "source": [
    "n_topics = 2"
   ]
  },
  {
   "cell_type": "code",
   "execution_count": 131,
   "id": "98c54801-5412-4c9b-844e-0bdac3f383d2",
   "metadata": {},
   "outputs": [
    {
     "data": {
      "text/plain": [
       "array([[0.14838002, 0.85161998],\n",
       "       [0.17640475, 0.82359525],\n",
       "       [0.81927251, 0.18072749],\n",
       "       [0.83045459, 0.16954541],\n",
       "       [0.81927261, 0.18072739]])"
      ]
     },
     "execution_count": 131,
     "metadata": {},
     "output_type": "execute_result"
    }
   ],
   "source": [
    "lda = LDA(n_components = n_topics)\n",
    "lda_array = lda.fit_transform(tfidf)\n",
    "lda_array"
   ]
  },
  {
   "cell_type": "code",
   "execution_count": 132,
   "id": "6bb82973-2f0a-4daa-977e-4020c1eaf232",
   "metadata": {},
   "outputs": [
    {
     "data": {
      "text/html": [
       "<div>\n",
       "<style scoped>\n",
       "    .dataframe tbody tr th:only-of-type {\n",
       "        vertical-align: middle;\n",
       "    }\n",
       "\n",
       "    .dataframe tbody tr th {\n",
       "        vertical-align: top;\n",
       "    }\n",
       "\n",
       "    .dataframe thead th {\n",
       "        text-align: right;\n",
       "    }\n",
       "</style>\n",
       "<table border=\"1\" class=\"dataframe\">\n",
       "  <thead>\n",
       "    <tr style=\"text-align: right;\">\n",
       "      <th></th>\n",
       "      <th>Topic 1</th>\n",
       "      <th>Topic 2</th>\n",
       "    </tr>\n",
       "  </thead>\n",
       "  <tbody>\n",
       "    <tr>\n",
       "      <th>3</th>\n",
       "      <td>0.830455</td>\n",
       "      <td>0.169545</td>\n",
       "    </tr>\n",
       "    <tr>\n",
       "      <th>4</th>\n",
       "      <td>0.819273</td>\n",
       "      <td>0.180727</td>\n",
       "    </tr>\n",
       "    <tr>\n",
       "      <th>2</th>\n",
       "      <td>0.819273</td>\n",
       "      <td>0.180727</td>\n",
       "    </tr>\n",
       "    <tr>\n",
       "      <th>1</th>\n",
       "      <td>0.176405</td>\n",
       "      <td>0.823595</td>\n",
       "    </tr>\n",
       "    <tr>\n",
       "      <th>0</th>\n",
       "      <td>0.148380</td>\n",
       "      <td>0.851620</td>\n",
       "    </tr>\n",
       "  </tbody>\n",
       "</table>\n",
       "</div>"
      ],
      "text/plain": [
       "    Topic 1   Topic 2\n",
       "3  0.830455  0.169545\n",
       "4  0.819273  0.180727\n",
       "2  0.819273  0.180727\n",
       "1  0.176405  0.823595\n",
       "0  0.148380  0.851620"
      ]
     },
     "execution_count": 132,
     "metadata": {},
     "output_type": "execute_result"
    }
   ],
   "source": [
    "(pd.\n",
    " DataFrame(lda_array, columns=[f'Topic {i}' for i in range(1,n_topics+1)]).\n",
    " sort_values('Topic 1', ascending=False)\n",
    ")"
   ]
  },
  {
   "cell_type": "code",
   "execution_count": 149,
   "id": "95656682-a413-440a-8f7a-a536a789b079",
   "metadata": {},
   "outputs": [
    {
     "name": "stdout",
     "output_type": "stream",
     "text": [
      "['biden', 'virus', 'stands']\n",
      "['rafael', 'nadal', 'open']\n"
     ]
    }
   ],
   "source": [
    "features = vectorizer.get_feature_names_out()\n",
    "\n",
    "for topic in range(n_topics):\n",
    "    words = (pd.\n",
    "             Series(lda.components_[topic], index=features).\n",
    "             sort_values(ascending=False).\n",
    "             iloc[:3].\n",
    "             index\n",
    "            )\n",
    "    words = list(words)\n",
    "    print(words)\n",
    "             "
   ]
  },
  {
   "cell_type": "markdown",
   "id": "5c2a02a1-465d-42d9-96a3-f811cc25e3cd",
   "metadata": {},
   "source": [
    "## Now lets try this with a real dataset"
   ]
  },
  {
   "cell_type": "code",
   "execution_count": 151,
   "id": "47519dbf-ccd0-40e6-a163-a4ca386671f0",
   "metadata": {},
   "outputs": [
    {
     "name": "stdout",
     "output_type": "stream",
     "text": [
      "I was wondering if anyone out there could enlighten me on this car I saw\n",
      "the other day. It was a 2-door sports car, looked to be from the late 60s/\n",
      "early 70s. It was called a Bricklin. The doors were really small. In addition,\n",
      "the front bumper was separate from the rest of the body. This is \n",
      "all I know. If anyone can tellme a model name, engine specs, years\n",
      "of production, where this car is made, history, or whatever info you\n",
      "have on this funky looking car, please e-mail.\n"
     ]
    }
   ],
   "source": [
    "from sklearn.datasets import fetch_20newsgroups\n",
    "X, _ = fetch_20newsgroups(subset='train', \n",
    "                          remove=('headers', 'footers', 'quotes'), \n",
    "                          return_X_y=True)\n",
    "\n",
    "print(X[0])"
   ]
  },
  {
   "cell_type": "code",
   "execution_count": 152,
   "id": "6d9464e6-1d1e-46cb-9cee-60b01ad38672",
   "metadata": {},
   "outputs": [
    {
     "name": "stdout",
     "output_type": "stream",
     "text": [
      "11314\n"
     ]
    }
   ],
   "source": [
    "print(len(X))"
   ]
  },
  {
   "cell_type": "code",
   "execution_count": 153,
   "id": "0e01d426-d92c-4e55-a995-e6e85da04307",
   "metadata": {},
   "outputs": [
    {
     "name": "stdout",
     "output_type": "stream",
     "text": [
      "(11314, 101487)\n"
     ]
    }
   ],
   "source": [
    "vectorizer = CountVectorizer(stop_words=stopwords.words('english'), lowercase=True)\n",
    "dtm = vectorizer.fit_transform(X)\n",
    "print(dtm.shape)"
   ]
  },
  {
   "cell_type": "code",
   "execution_count": 154,
   "id": "2158c298-de71-43bd-9df9-ce41834efc45",
   "metadata": {},
   "outputs": [
    {
     "name": "stdout",
     "output_type": "stream",
     "text": [
      "(11314, 101487)\n"
     ]
    }
   ],
   "source": [
    "tfidf_transformer = TfidfTransformer()\n",
    "tfidf = tfidf_transformer.fit_transform(dtm)\n",
    "print(tfidf.shape)"
   ]
  },
  {
   "cell_type": "code",
   "execution_count": 166,
   "id": "a48ec7ca-d039-46da-a599-1e2af596429c",
   "metadata": {},
   "outputs": [],
   "source": [
    "n_topics = 10"
   ]
  },
  {
   "cell_type": "code",
   "execution_count": 167,
   "id": "ee30f315-6c88-4d42-b8d6-285fcc989d9c",
   "metadata": {},
   "outputs": [
    {
     "data": {
      "text/html": [
       "<div>\n",
       "<style scoped>\n",
       "    .dataframe tbody tr th:only-of-type {\n",
       "        vertical-align: middle;\n",
       "    }\n",
       "\n",
       "    .dataframe tbody tr th {\n",
       "        vertical-align: top;\n",
       "    }\n",
       "\n",
       "    .dataframe thead th {\n",
       "        text-align: right;\n",
       "    }\n",
       "</style>\n",
       "<table border=\"1\" class=\"dataframe\">\n",
       "  <thead>\n",
       "    <tr style=\"text-align: right;\">\n",
       "      <th></th>\n",
       "      <th>Topic 1</th>\n",
       "      <th>Topic 2</th>\n",
       "      <th>Topic 3</th>\n",
       "      <th>Topic 4</th>\n",
       "      <th>Topic 5</th>\n",
       "      <th>Topic 6</th>\n",
       "      <th>Topic 7</th>\n",
       "      <th>Topic 8</th>\n",
       "      <th>Topic 9</th>\n",
       "      <th>Topic 10</th>\n",
       "    </tr>\n",
       "  </thead>\n",
       "  <tbody>\n",
       "    <tr>\n",
       "      <th>10777</th>\n",
       "      <td>0.734471</td>\n",
       "      <td>0.029499</td>\n",
       "      <td>0.029499</td>\n",
       "      <td>0.029539</td>\n",
       "      <td>0.029499</td>\n",
       "      <td>0.029499</td>\n",
       "      <td>0.029499</td>\n",
       "      <td>0.029500</td>\n",
       "      <td>0.029499</td>\n",
       "      <td>0.029499</td>\n",
       "    </tr>\n",
       "    <tr>\n",
       "      <th>2002</th>\n",
       "      <td>0.734471</td>\n",
       "      <td>0.029499</td>\n",
       "      <td>0.029499</td>\n",
       "      <td>0.029539</td>\n",
       "      <td>0.029499</td>\n",
       "      <td>0.029499</td>\n",
       "      <td>0.029499</td>\n",
       "      <td>0.029500</td>\n",
       "      <td>0.029499</td>\n",
       "      <td>0.029499</td>\n",
       "    </tr>\n",
       "    <tr>\n",
       "      <th>6337</th>\n",
       "      <td>0.717504</td>\n",
       "      <td>0.031383</td>\n",
       "      <td>0.031383</td>\n",
       "      <td>0.031408</td>\n",
       "      <td>0.031383</td>\n",
       "      <td>0.031383</td>\n",
       "      <td>0.031383</td>\n",
       "      <td>0.031408</td>\n",
       "      <td>0.031383</td>\n",
       "      <td>0.031383</td>\n",
       "    </tr>\n",
       "    <tr>\n",
       "      <th>8215</th>\n",
       "      <td>0.694910</td>\n",
       "      <td>0.033880</td>\n",
       "      <td>0.033880</td>\n",
       "      <td>0.033943</td>\n",
       "      <td>0.033880</td>\n",
       "      <td>0.033880</td>\n",
       "      <td>0.033880</td>\n",
       "      <td>0.033985</td>\n",
       "      <td>0.033880</td>\n",
       "      <td>0.033880</td>\n",
       "    </tr>\n",
       "    <tr>\n",
       "      <th>2626</th>\n",
       "      <td>0.668398</td>\n",
       "      <td>0.036841</td>\n",
       "      <td>0.036841</td>\n",
       "      <td>0.036870</td>\n",
       "      <td>0.036841</td>\n",
       "      <td>0.036841</td>\n",
       "      <td>0.036842</td>\n",
       "      <td>0.036844</td>\n",
       "      <td>0.036841</td>\n",
       "      <td>0.036841</td>\n",
       "    </tr>\n",
       "    <tr>\n",
       "      <th>...</th>\n",
       "      <td>...</td>\n",
       "      <td>...</td>\n",
       "      <td>...</td>\n",
       "      <td>...</td>\n",
       "      <td>...</td>\n",
       "      <td>...</td>\n",
       "      <td>...</td>\n",
       "      <td>...</td>\n",
       "      <td>...</td>\n",
       "      <td>...</td>\n",
       "    </tr>\n",
       "    <tr>\n",
       "      <th>6440</th>\n",
       "      <td>0.002848</td>\n",
       "      <td>0.002849</td>\n",
       "      <td>0.002848</td>\n",
       "      <td>0.089367</td>\n",
       "      <td>0.002848</td>\n",
       "      <td>0.002849</td>\n",
       "      <td>0.002849</td>\n",
       "      <td>0.058905</td>\n",
       "      <td>0.002849</td>\n",
       "      <td>0.831787</td>\n",
       "    </tr>\n",
       "    <tr>\n",
       "      <th>6261</th>\n",
       "      <td>0.001767</td>\n",
       "      <td>0.001766</td>\n",
       "      <td>0.001766</td>\n",
       "      <td>0.063442</td>\n",
       "      <td>0.001768</td>\n",
       "      <td>0.005978</td>\n",
       "      <td>0.001766</td>\n",
       "      <td>0.060108</td>\n",
       "      <td>0.001766</td>\n",
       "      <td>0.859872</td>\n",
       "    </tr>\n",
       "    <tr>\n",
       "      <th>10650</th>\n",
       "      <td>0.001627</td>\n",
       "      <td>0.001625</td>\n",
       "      <td>0.001625</td>\n",
       "      <td>0.074243</td>\n",
       "      <td>0.001625</td>\n",
       "      <td>0.011961</td>\n",
       "      <td>0.001627</td>\n",
       "      <td>0.068471</td>\n",
       "      <td>0.001626</td>\n",
       "      <td>0.835570</td>\n",
       "    </tr>\n",
       "    <tr>\n",
       "      <th>498</th>\n",
       "      <td>0.001596</td>\n",
       "      <td>0.001599</td>\n",
       "      <td>0.001595</td>\n",
       "      <td>0.077980</td>\n",
       "      <td>0.001599</td>\n",
       "      <td>0.011007</td>\n",
       "      <td>0.001596</td>\n",
       "      <td>0.061116</td>\n",
       "      <td>0.001596</td>\n",
       "      <td>0.840316</td>\n",
       "    </tr>\n",
       "    <tr>\n",
       "      <th>5045</th>\n",
       "      <td>0.001562</td>\n",
       "      <td>0.001561</td>\n",
       "      <td>0.001561</td>\n",
       "      <td>0.068931</td>\n",
       "      <td>0.001562</td>\n",
       "      <td>0.010805</td>\n",
       "      <td>0.001563</td>\n",
       "      <td>0.060197</td>\n",
       "      <td>0.001561</td>\n",
       "      <td>0.850696</td>\n",
       "    </tr>\n",
       "  </tbody>\n",
       "</table>\n",
       "<p>11314 rows × 10 columns</p>\n",
       "</div>"
      ],
      "text/plain": [
       "        Topic 1   Topic 2   Topic 3   Topic 4   Topic 5   Topic 6   Topic 7  \\\n",
       "10777  0.734471  0.029499  0.029499  0.029539  0.029499  0.029499  0.029499   \n",
       "2002   0.734471  0.029499  0.029499  0.029539  0.029499  0.029499  0.029499   \n",
       "6337   0.717504  0.031383  0.031383  0.031408  0.031383  0.031383  0.031383   \n",
       "8215   0.694910  0.033880  0.033880  0.033943  0.033880  0.033880  0.033880   \n",
       "2626   0.668398  0.036841  0.036841  0.036870  0.036841  0.036841  0.036842   \n",
       "...         ...       ...       ...       ...       ...       ...       ...   \n",
       "6440   0.002848  0.002849  0.002848  0.089367  0.002848  0.002849  0.002849   \n",
       "6261   0.001767  0.001766  0.001766  0.063442  0.001768  0.005978  0.001766   \n",
       "10650  0.001627  0.001625  0.001625  0.074243  0.001625  0.011961  0.001627   \n",
       "498    0.001596  0.001599  0.001595  0.077980  0.001599  0.011007  0.001596   \n",
       "5045   0.001562  0.001561  0.001561  0.068931  0.001562  0.010805  0.001563   \n",
       "\n",
       "        Topic 8   Topic 9  Topic 10  \n",
       "10777  0.029500  0.029499  0.029499  \n",
       "2002   0.029500  0.029499  0.029499  \n",
       "6337   0.031408  0.031383  0.031383  \n",
       "8215   0.033985  0.033880  0.033880  \n",
       "2626   0.036844  0.036841  0.036841  \n",
       "...         ...       ...       ...  \n",
       "6440   0.058905  0.002849  0.831787  \n",
       "6261   0.060108  0.001766  0.859872  \n",
       "10650  0.068471  0.001626  0.835570  \n",
       "498    0.061116  0.001596  0.840316  \n",
       "5045   0.060197  0.001561  0.850696  \n",
       "\n",
       "[11314 rows x 10 columns]"
      ]
     },
     "execution_count": 167,
     "metadata": {},
     "output_type": "execute_result"
    }
   ],
   "source": [
    "lda = LDA(n_components = n_topics)\n",
    "lda_array = lda.fit_transform(tfidf)\n",
    "\n",
    "(pd.\n",
    " DataFrame(lda_array, columns=[f'Topic {i}' for i in range(1,n_topics+1)]).\n",
    " sort_values('Topic 1', ascending=False)\n",
    ")"
   ]
  },
  {
   "cell_type": "code",
   "execution_count": 168,
   "id": "9e9dcaa1-dde5-4fd2-b6e8-56b5130fc202",
   "metadata": {},
   "outputs": [
    {
     "name": "stdout",
     "output_type": "stream",
     "text": [
      "['hawks', 'duo', 'captain', 'riders', 'steam']\n",
      "['dtmedin', 'catbyte', 'ingr', 'b30', '205']\n",
      "['ites', 'winbench', 'headline', 'cobb', 'mumble']\n",
      "['would', 'one', 'get', 'know', 'like']\n",
      "['ax', 'ico', 'bronx', 'bobbe', 'queens']\n",
      "['lib', 'islanders', 'feustel', 'joystick', 'mcguire']\n",
      "['keller', 'ivy', 'kkeller', 'quakers', 'upenn']\n",
      "['god', 'people', 'one', 'would', 'think']\n",
      "['geb', 'cadre', 'shameful', 'n3jxp', 'chastity']\n",
      "['ditto', 'pkp', 'adl', 'adcom', 'liner']\n"
     ]
    }
   ],
   "source": [
    "features = vectorizer.get_feature_names_out()\n",
    "\n",
    "for topic in range(n_topics):\n",
    "    words = (pd.\n",
    "             Series(lda.components_[topic], index=features).\n",
    "             sort_values(ascending=False).\n",
    "             iloc[:5].\n",
    "             index\n",
    "            )\n",
    "    words = list(words)\n",
    "    print(words)"
   ]
  },
  {
   "cell_type": "code",
   "execution_count": null,
   "id": "35b3920d-0023-450e-8117-b3789e645db8",
   "metadata": {},
   "outputs": [],
   "source": []
  },
  {
   "cell_type": "code",
   "execution_count": null,
   "id": "ac5d3f9f-e88b-4558-9614-bf7e54230523",
   "metadata": {},
   "outputs": [],
   "source": []
  }
 ],
 "metadata": {
  "kernelspec": {
   "display_name": "Python 3 (ipykernel)",
   "language": "python",
   "name": "python3"
  },
  "language_info": {
   "codemirror_mode": {
    "name": "ipython",
    "version": 3
   },
   "file_extension": ".py",
   "mimetype": "text/x-python",
   "name": "python",
   "nbconvert_exporter": "python",
   "pygments_lexer": "ipython3",
   "version": "3.9.12"
  }
 },
 "nbformat": 4,
 "nbformat_minor": 5
}
