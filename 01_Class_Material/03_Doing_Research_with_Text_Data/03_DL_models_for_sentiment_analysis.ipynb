{
 "cells": [
  {
   "cell_type": "markdown",
   "id": "b139fdb7-28ad-4854-86d1-daca6e422b4d",
   "metadata": {},
   "source": [
    "# Sentiment analysis using Deep Learning on Twitter Data\n",
    "\n",
    "__Concepts covered:__\n",
    "* Twitter API\n",
    "* Sentiment analysis\n",
    "* Deep Learning for inference\n",
    "* Huggingface models\n",
    "* Transformers"
   ]
  },
  {
   "cell_type": "markdown",
   "id": "0dbdfa41-c1b8-4557-aa5a-b1e04a4bc4ff",
   "metadata": {},
   "source": [
    "## Install transformers library"
   ]
  },
  {
   "cell_type": "code",
   "execution_count": 65,
   "id": "20e014ee-4e8b-491b-9c60-9e0d6c5700f0",
   "metadata": {},
   "outputs": [],
   "source": [
    "!pip install -q transformers"
   ]
  },
  {
   "cell_type": "markdown",
   "id": "e19a954b-998b-45f2-9a44-c01145779888",
   "metadata": {
    "tags": []
   },
   "source": [
    "## Connect to Twitter"
   ]
  },
  {
   "cell_type": "code",
   "execution_count": 83,
   "id": "139a44d3-88a1-4283-8ea4-1ae8fab3b23d",
   "metadata": {},
   "outputs": [],
   "source": [
    "import json\n",
    "import pandas as pd\n",
    "import numpy as np"
   ]
  },
  {
   "cell_type": "code",
   "execution_count": 84,
   "id": "5508c38b-c721-4ee5-a841-e8ebd47aa71f",
   "metadata": {},
   "outputs": [
    {
     "name": "stdout",
     "output_type": "stream",
     "text": [
      "dict_keys(['CONSUMER_KEY', 'CONSUMER_SECRET', 'ACCESS_TOKEN', 'ACCESS_SECRET'])\n"
     ]
    }
   ],
   "source": [
    "credentials_filename = 'twitter_credentials.json'\n",
    "\n",
    "with open('twitter_credentials.json') as f:\n",
    "    credentials = json.load(f)\n",
    "\n",
    "print(credentials.keys())"
   ]
  },
  {
   "cell_type": "code",
   "execution_count": 85,
   "id": "921003a2-d374-4e8d-bf30-583c6f0a3a81",
   "metadata": {},
   "outputs": [],
   "source": [
    "# Import Tweepy\n",
    "import tweepy\n",
    "\n",
    "# Authenticate\n",
    "auth = tweepy.OAuthHandler(credentials['CONSUMER_KEY'], credentials['CONSUMER_SECRET'])\n",
    "auth.set_access_token(credentials['ACCESS_TOKEN'], credentials['ACCESS_SECRET'])\n",
    "api = tweepy.API(auth)"
   ]
  },
  {
   "cell_type": "markdown",
   "id": "9cc40a47-a757-417a-9021-7530e286a98c",
   "metadata": {},
   "source": [
    "## Get tweets"
   ]
  },
  {
   "cell_type": "code",
   "execution_count": 86,
   "id": "a20a6c9c-837a-46e1-b532-eb044a003690",
   "metadata": {},
   "outputs": [],
   "source": [
    "def tweets2dataframe(tweets):\n",
    "    columns = ['TweetId', 'created_at', 'User', 'Tweet']\n",
    "    data = []\n",
    "    \n",
    "    for tweet in tweets:\n",
    "        data.append([tweet.id, tweet.created_at, tweet.user.screen_name, tweet.full_text])\n",
    "    \n",
    "    df = pd.DataFrame(data, columns=columns)\n",
    "    \n",
    "    #Express created_at as date only\n",
    "    df['created_at'] = df['created_at'].dt.date\n",
    "    \n",
    "    return(df)\n",
    "    "
   ]
  },
  {
   "cell_type": "code",
   "execution_count": 87,
   "id": "c5ccf497-df54-43ef-92ac-a022b5b7a28e",
   "metadata": {},
   "outputs": [],
   "source": [
    "search = \"greta thunberg\"\n",
    "limit = 500\n",
    "\n",
    "#Search tweets\n",
    "tweets = tweepy.Cursor(api.search_tweets,\n",
    "                       q=search,\n",
    "                       lang=\"en\", tweet_mode='extended').items(limit)\n",
    "\n",
    "#Make dataframe\n",
    "df = tweets2dataframe(tweets)"
   ]
  },
  {
   "cell_type": "code",
   "execution_count": 88,
   "id": "2df8df89-c1f3-45ed-9b3c-10a7ea44babc",
   "metadata": {},
   "outputs": [
    {
     "data": {
      "text/html": [
       "<div>\n",
       "<style scoped>\n",
       "    .dataframe tbody tr th:only-of-type {\n",
       "        vertical-align: middle;\n",
       "    }\n",
       "\n",
       "    .dataframe tbody tr th {\n",
       "        vertical-align: top;\n",
       "    }\n",
       "\n",
       "    .dataframe thead th {\n",
       "        text-align: right;\n",
       "    }\n",
       "</style>\n",
       "<table border=\"1\" class=\"dataframe\">\n",
       "  <thead>\n",
       "    <tr style=\"text-align: right;\">\n",
       "      <th></th>\n",
       "      <th>TweetId</th>\n",
       "      <th>created_at</th>\n",
       "      <th>User</th>\n",
       "      <th>Tweet</th>\n",
       "    </tr>\n",
       "  </thead>\n",
       "  <tbody>\n",
       "    <tr>\n",
       "      <th>0</th>\n",
       "      <td>1589276006661390342</td>\n",
       "      <td>2022-11-06</td>\n",
       "      <td>mwmw7mwmw</td>\n",
       "      <td>RT @PeterSweden7: Greta Thunberg says that she...</td>\n",
       "    </tr>\n",
       "    <tr>\n",
       "      <th>1</th>\n",
       "      <td>1589275985379495936</td>\n",
       "      <td>2022-11-06</td>\n",
       "      <td>miv_joe</td>\n",
       "      <td>RT @PeterSweden7: Greta Thunberg says that she...</td>\n",
       "    </tr>\n",
       "    <tr>\n",
       "      <th>2</th>\n",
       "      <td>1589275972280340480</td>\n",
       "      <td>2022-11-06</td>\n",
       "      <td>BellProtection</td>\n",
       "      <td>RT @PeterSweden7: Greta Thunberg says that she...</td>\n",
       "    </tr>\n",
       "    <tr>\n",
       "      <th>3</th>\n",
       "      <td>1589275965167128576</td>\n",
       "      <td>2022-11-06</td>\n",
       "      <td>mbarminski</td>\n",
       "      <td>RT @PeterSweden7: Greta Thunberg says that she...</td>\n",
       "    </tr>\n",
       "    <tr>\n",
       "      <th>4</th>\n",
       "      <td>1589275945483264001</td>\n",
       "      <td>2022-11-06</td>\n",
       "      <td>TomBeen</td>\n",
       "      <td>RT @PeterSweden7: Greta Thunberg says that she...</td>\n",
       "    </tr>\n",
       "    <tr>\n",
       "      <th>...</th>\n",
       "      <td>...</td>\n",
       "      <td>...</td>\n",
       "      <td>...</td>\n",
       "      <td>...</td>\n",
       "    </tr>\n",
       "    <tr>\n",
       "      <th>495</th>\n",
       "      <td>1589264804870782976</td>\n",
       "      <td>2022-11-06</td>\n",
       "      <td>bambambioo</td>\n",
       "      <td>RT @PeterSweden7: Greta Thunberg says that she...</td>\n",
       "    </tr>\n",
       "    <tr>\n",
       "      <th>496</th>\n",
       "      <td>1589264771018555392</td>\n",
       "      <td>2022-11-06</td>\n",
       "      <td>Wh1tneyyy</td>\n",
       "      <td>RT @willfulchaos: 77 degrees in november.. GRE...</td>\n",
       "    </tr>\n",
       "    <tr>\n",
       "      <th>497</th>\n",
       "      <td>1589264756808245254</td>\n",
       "      <td>2022-11-06</td>\n",
       "      <td>Awildcole</td>\n",
       "      <td>RT @willfulchaos: 77 degrees in november.. GRE...</td>\n",
       "    </tr>\n",
       "    <tr>\n",
       "      <th>498</th>\n",
       "      <td>1589264752802672642</td>\n",
       "      <td>2022-11-06</td>\n",
       "      <td>ArshooterMd</td>\n",
       "      <td>RT @PeterSweden7: Greta Thunberg says that she...</td>\n",
       "    </tr>\n",
       "    <tr>\n",
       "      <th>499</th>\n",
       "      <td>1589264723928678400</td>\n",
       "      <td>2022-11-06</td>\n",
       "      <td>CjHowley</td>\n",
       "      <td>RT @PeterSweden7: Greta Thunberg says that she...</td>\n",
       "    </tr>\n",
       "  </tbody>\n",
       "</table>\n",
       "<p>500 rows × 4 columns</p>\n",
       "</div>"
      ],
      "text/plain": [
       "                 TweetId  created_at            User  \\\n",
       "0    1589276006661390342  2022-11-06       mwmw7mwmw   \n",
       "1    1589275985379495936  2022-11-06         miv_joe   \n",
       "2    1589275972280340480  2022-11-06  BellProtection   \n",
       "3    1589275965167128576  2022-11-06      mbarminski   \n",
       "4    1589275945483264001  2022-11-06         TomBeen   \n",
       "..                   ...         ...             ...   \n",
       "495  1589264804870782976  2022-11-06      bambambioo   \n",
       "496  1589264771018555392  2022-11-06       Wh1tneyyy   \n",
       "497  1589264756808245254  2022-11-06       Awildcole   \n",
       "498  1589264752802672642  2022-11-06     ArshooterMd   \n",
       "499  1589264723928678400  2022-11-06        CjHowley   \n",
       "\n",
       "                                                 Tweet  \n",
       "0    RT @PeterSweden7: Greta Thunberg says that she...  \n",
       "1    RT @PeterSweden7: Greta Thunberg says that she...  \n",
       "2    RT @PeterSweden7: Greta Thunberg says that she...  \n",
       "3    RT @PeterSweden7: Greta Thunberg says that she...  \n",
       "4    RT @PeterSweden7: Greta Thunberg says that she...  \n",
       "..                                                 ...  \n",
       "495  RT @PeterSweden7: Greta Thunberg says that she...  \n",
       "496  RT @willfulchaos: 77 degrees in november.. GRE...  \n",
       "497  RT @willfulchaos: 77 degrees in november.. GRE...  \n",
       "498  RT @PeterSweden7: Greta Thunberg says that she...  \n",
       "499  RT @PeterSweden7: Greta Thunberg says that she...  \n",
       "\n",
       "[500 rows x 4 columns]"
      ]
     },
     "execution_count": 88,
     "metadata": {},
     "output_type": "execute_result"
    }
   ],
   "source": [
    "df"
   ]
  },
  {
   "cell_type": "code",
   "execution_count": 89,
   "id": "3f24a9d3-13fc-42f4-9d67-8fe73b3a7bc5",
   "metadata": {},
   "outputs": [
    {
     "data": {
      "text/html": [
       "<div>\n",
       "<style scoped>\n",
       "    .dataframe tbody tr th:only-of-type {\n",
       "        vertical-align: middle;\n",
       "    }\n",
       "\n",
       "    .dataframe tbody tr th {\n",
       "        vertical-align: top;\n",
       "    }\n",
       "\n",
       "    .dataframe thead th {\n",
       "        text-align: right;\n",
       "    }\n",
       "</style>\n",
       "<table border=\"1\" class=\"dataframe\">\n",
       "  <thead>\n",
       "    <tr style=\"text-align: right;\">\n",
       "      <th></th>\n",
       "      <th>TweetId</th>\n",
       "      <th>created_at</th>\n",
       "      <th>User</th>\n",
       "      <th>Tweet</th>\n",
       "    </tr>\n",
       "  </thead>\n",
       "  <tbody>\n",
       "    <tr>\n",
       "      <th>34</th>\n",
       "      <td>1589275252269674505</td>\n",
       "      <td>2022-11-06</td>\n",
       "      <td>Reaganaddicted</td>\n",
       "      <td>RT @PeterSweden7: Greta Thunberg says that she...</td>\n",
       "    </tr>\n",
       "    <tr>\n",
       "      <th>220</th>\n",
       "      <td>1589270985672622080</td>\n",
       "      <td>2022-11-06</td>\n",
       "      <td>gpse7en</td>\n",
       "      <td>RT @PeterSweden7: Greta Thunberg says that she...</td>\n",
       "    </tr>\n",
       "    <tr>\n",
       "      <th>98</th>\n",
       "      <td>1589274067299098625</td>\n",
       "      <td>2022-11-06</td>\n",
       "      <td>MarkRosser20</td>\n",
       "      <td>RT @PeterSweden7: Greta Thunberg says that she...</td>\n",
       "    </tr>\n",
       "    <tr>\n",
       "      <th>6</th>\n",
       "      <td>1589275891708088320</td>\n",
       "      <td>2022-11-06</td>\n",
       "      <td>Lola90244421</td>\n",
       "      <td>RT @PeterSweden7: Greta Thunberg says that she...</td>\n",
       "    </tr>\n",
       "    <tr>\n",
       "      <th>168</th>\n",
       "      <td>1589272536407498752</td>\n",
       "      <td>2022-11-06</td>\n",
       "      <td>DavidCo82529586</td>\n",
       "      <td>RT @PeterSweden7: Greta Thunberg says that she...</td>\n",
       "    </tr>\n",
       "  </tbody>\n",
       "</table>\n",
       "</div>"
      ],
      "text/plain": [
       "                 TweetId  created_at             User  \\\n",
       "34   1589275252269674505  2022-11-06   Reaganaddicted   \n",
       "220  1589270985672622080  2022-11-06          gpse7en   \n",
       "98   1589274067299098625  2022-11-06     MarkRosser20   \n",
       "6    1589275891708088320  2022-11-06     Lola90244421   \n",
       "168  1589272536407498752  2022-11-06  DavidCo82529586   \n",
       "\n",
       "                                                 Tweet  \n",
       "34   RT @PeterSweden7: Greta Thunberg says that she...  \n",
       "220  RT @PeterSweden7: Greta Thunberg says that she...  \n",
       "98   RT @PeterSweden7: Greta Thunberg says that she...  \n",
       "6    RT @PeterSweden7: Greta Thunberg says that she...  \n",
       "168  RT @PeterSweden7: Greta Thunberg says that she...  "
      ]
     },
     "execution_count": 89,
     "metadata": {},
     "output_type": "execute_result"
    }
   ],
   "source": [
    "df.sample(5)"
   ]
  },
  {
   "cell_type": "code",
   "execution_count": 90,
   "id": "35b325d5-f268-4f10-b07c-059137e29b96",
   "metadata": {},
   "outputs": [
    {
     "data": {
      "text/plain": [
       "2022-11-06    500\n",
       "Name: created_at, dtype: int64"
      ]
     },
     "execution_count": 90,
     "metadata": {},
     "output_type": "execute_result"
    }
   ],
   "source": [
    "#Tweets per day\n",
    "df.created_at.value_counts()"
   ]
  },
  {
   "cell_type": "code",
   "execution_count": 91,
   "id": "967e4042-276e-4297-9ba6-07d0db6a87cc",
   "metadata": {},
   "outputs": [
    {
     "data": {
      "text/plain": [
       "jeannetix_         2\n",
       "DJPM6              2\n",
       "mwmw7mwmw          1\n",
       "feu_serpent        1\n",
       "rakeshg45180200    1\n",
       "Name: User, dtype: int64"
      ]
     },
     "execution_count": 91,
     "metadata": {},
     "output_type": "execute_result"
    }
   ],
   "source": [
    "#Tweets per day\n",
    "df.User.value_counts().head()"
   ]
  },
  {
   "cell_type": "markdown",
   "id": "37859935-70b3-40a1-94cc-44df901a3496",
   "metadata": {},
   "source": [
    "## Load Deep Learning model for Sentiment Analysis"
   ]
  },
  {
   "cell_type": "code",
   "execution_count": 92,
   "id": "00c07b99-85b1-4126-9a99-1feb3f342b8f",
   "metadata": {},
   "outputs": [
    {
     "name": "stderr",
     "output_type": "stream",
     "text": [
      "Some weights of the PyTorch model were not used when initializing the TF 2.0 model TFRobertaForSequenceClassification: ['roberta.embeddings.position_ids']\n",
      "- This IS expected if you are initializing TFRobertaForSequenceClassification from a PyTorch model trained on another task or with another architecture (e.g. initializing a TFBertForSequenceClassification model from a BertForPreTraining model).\n",
      "- This IS NOT expected if you are initializing TFRobertaForSequenceClassification from a PyTorch model that you expect to be exactly identical (e.g. initializing a TFBertForSequenceClassification model from a BertForSequenceClassification model).\n",
      "All the weights of TFRobertaForSequenceClassification were initialized from the PyTorch model.\n",
      "If your task is similar to the task the model of the checkpoint was trained on, you can already use TFRobertaForSequenceClassification for predictions without further training.\n"
     ]
    }
   ],
   "source": [
    "from transformers import AutoTokenizer, TFAutoModelForSequenceClassification, pipeline\n",
    "\n",
    "model_name = \"cardiffnlp/twitter-roberta-base-sentiment\"\n",
    "\n",
    "tokenizer = AutoTokenizer.from_pretrained(model_name)\n",
    "\n",
    "model = TFAutoModelForSequenceClassification.from_pretrained(model_name, from_pt=True)\n",
    "\n",
    "sentiment_pipeline = pipeline(task='sentiment-analysis', model=model, tokenizer=tokenizer)"
   ]
  },
  {
   "cell_type": "markdown",
   "id": "69fccc33-fa26-48a6-9dfc-767c011dd49a",
   "metadata": {},
   "source": [
    "For model_name = \"cardiffnlp/twitter-roberta-base-sentiment\", the labels are as follows:\n",
    "* 0 -> Negative\n",
    "* 1 -> Neutral\n",
    "* 2 -> Positive"
   ]
  },
  {
   "cell_type": "code",
   "execution_count": 93,
   "id": "3843b07d-bedd-44b8-bceb-1e6561876c08",
   "metadata": {},
   "outputs": [
    {
     "data": {
      "text/plain": [
       "(58,\n",
       " 'RT @PeterSweden7: Greta Thunberg says that she wants to overthrow the Western capitalist system.\\n\\nI always told you it was Climate Communis…',\n",
       " [{'label': 'LABEL_1', 'score': 0.4945134222507477}])"
      ]
     },
     "execution_count": 93,
     "metadata": {},
     "output_type": "execute_result"
    }
   ],
   "source": [
    "i = np.random.randint(df.shape[0])\n",
    "i, df.Tweet[i], sentiment_pipeline(df.Tweet[i])"
   ]
  },
  {
   "cell_type": "markdown",
   "id": "8d2ffbfe-9b65-41cd-bd9e-2e9bdce24963",
   "metadata": {},
   "source": [
    "## Calculate sentiment of tweets\n",
    "... and save as a column in the dataframe"
   ]
  },
  {
   "cell_type": "code",
   "execution_count": 94,
   "id": "4ec1cf66-06da-4b1a-ab8c-d73ecac1714d",
   "metadata": {},
   "outputs": [],
   "source": [
    "#Why does this take so long? -- It's not called deep learning for nothing!\n",
    "df['sentiment'] = df.apply(lambda x: sentiment_pipeline(x['Tweet']), axis=1)"
   ]
  },
  {
   "cell_type": "code",
   "execution_count": 95,
   "id": "52522f0f-9540-481d-8781-e6aee803bfcb",
   "metadata": {},
   "outputs": [
    {
     "data": {
      "text/html": [
       "<div>\n",
       "<style scoped>\n",
       "    .dataframe tbody tr th:only-of-type {\n",
       "        vertical-align: middle;\n",
       "    }\n",
       "\n",
       "    .dataframe tbody tr th {\n",
       "        vertical-align: top;\n",
       "    }\n",
       "\n",
       "    .dataframe thead th {\n",
       "        text-align: right;\n",
       "    }\n",
       "</style>\n",
       "<table border=\"1\" class=\"dataframe\">\n",
       "  <thead>\n",
       "    <tr style=\"text-align: right;\">\n",
       "      <th></th>\n",
       "      <th>TweetId</th>\n",
       "      <th>created_at</th>\n",
       "      <th>User</th>\n",
       "      <th>Tweet</th>\n",
       "      <th>sentiment</th>\n",
       "    </tr>\n",
       "  </thead>\n",
       "  <tbody>\n",
       "    <tr>\n",
       "      <th>366</th>\n",
       "      <td>1589268065283629056</td>\n",
       "      <td>2022-11-06</td>\n",
       "      <td>PressD</td>\n",
       "      <td>RT @PeterSweden7: Greta Thunberg says that she...</td>\n",
       "      <td>[{'label': 'LABEL_1', 'score': 0.4945134222507...</td>\n",
       "    </tr>\n",
       "    <tr>\n",
       "      <th>460</th>\n",
       "      <td>1589265569546895360</td>\n",
       "      <td>2022-11-06</td>\n",
       "      <td>Rachel_Claveau</td>\n",
       "      <td>RT @PeterSweden7: Greta Thunberg says that she...</td>\n",
       "      <td>[{'label': 'LABEL_1', 'score': 0.4945134222507...</td>\n",
       "    </tr>\n",
       "    <tr>\n",
       "      <th>156</th>\n",
       "      <td>1589272712111063041</td>\n",
       "      <td>2022-11-06</td>\n",
       "      <td>AmericanThinks</td>\n",
       "      <td>RT @PeterSweden7: Greta Thunberg says that she...</td>\n",
       "      <td>[{'label': 'LABEL_1', 'score': 0.4945134222507...</td>\n",
       "    </tr>\n",
       "    <tr>\n",
       "      <th>133</th>\n",
       "      <td>1589273321686073344</td>\n",
       "      <td>2022-11-06</td>\n",
       "      <td>itsmmaha</td>\n",
       "      <td>RT @willfulchaos: 77 degrees in november.. GRE...</td>\n",
       "      <td>[{'label': 'LABEL_1', 'score': 0.6030967831611...</td>\n",
       "    </tr>\n",
       "    <tr>\n",
       "      <th>36</th>\n",
       "      <td>1589275213845479430</td>\n",
       "      <td>2022-11-06</td>\n",
       "      <td>Eleaccount</td>\n",
       "      <td>RT @PeterSweden7: Greta Thunberg says that she...</td>\n",
       "      <td>[{'label': 'LABEL_1', 'score': 0.4945134222507...</td>\n",
       "    </tr>\n",
       "  </tbody>\n",
       "</table>\n",
       "</div>"
      ],
      "text/plain": [
       "                 TweetId  created_at            User  \\\n",
       "366  1589268065283629056  2022-11-06          PressD   \n",
       "460  1589265569546895360  2022-11-06  Rachel_Claveau   \n",
       "156  1589272712111063041  2022-11-06  AmericanThinks   \n",
       "133  1589273321686073344  2022-11-06        itsmmaha   \n",
       "36   1589275213845479430  2022-11-06      Eleaccount   \n",
       "\n",
       "                                                 Tweet  \\\n",
       "366  RT @PeterSweden7: Greta Thunberg says that she...   \n",
       "460  RT @PeterSweden7: Greta Thunberg says that she...   \n",
       "156  RT @PeterSweden7: Greta Thunberg says that she...   \n",
       "133  RT @willfulchaos: 77 degrees in november.. GRE...   \n",
       "36   RT @PeterSweden7: Greta Thunberg says that she...   \n",
       "\n",
       "                                             sentiment  \n",
       "366  [{'label': 'LABEL_1', 'score': 0.4945134222507...  \n",
       "460  [{'label': 'LABEL_1', 'score': 0.4945134222507...  \n",
       "156  [{'label': 'LABEL_1', 'score': 0.4945134222507...  \n",
       "133  [{'label': 'LABEL_1', 'score': 0.6030967831611...  \n",
       "36   [{'label': 'LABEL_1', 'score': 0.4945134222507...  "
      ]
     },
     "execution_count": 95,
     "metadata": {},
     "output_type": "execute_result"
    }
   ],
   "source": [
    "df.sample(5)"
   ]
  },
  {
   "cell_type": "markdown",
   "id": "b88ab287-22c2-4048-8698-002feac731f9",
   "metadata": {},
   "source": [
    "Tidy info on sentiment analysis"
   ]
  },
  {
   "cell_type": "code",
   "execution_count": 96,
   "id": "93051ba7-ae34-4e62-9deb-710962d42a9a",
   "metadata": {},
   "outputs": [
    {
     "data": {
      "text/html": [
       "<div>\n",
       "<style scoped>\n",
       "    .dataframe tbody tr th:only-of-type {\n",
       "        vertical-align: middle;\n",
       "    }\n",
       "\n",
       "    .dataframe tbody tr th {\n",
       "        vertical-align: top;\n",
       "    }\n",
       "\n",
       "    .dataframe thead th {\n",
       "        text-align: right;\n",
       "    }\n",
       "</style>\n",
       "<table border=\"1\" class=\"dataframe\">\n",
       "  <thead>\n",
       "    <tr style=\"text-align: right;\">\n",
       "      <th></th>\n",
       "      <th>TweetId</th>\n",
       "      <th>created_at</th>\n",
       "      <th>User</th>\n",
       "      <th>Tweet</th>\n",
       "      <th>sentiment_polarity</th>\n",
       "      <th>sentiment_score</th>\n",
       "    </tr>\n",
       "  </thead>\n",
       "  <tbody>\n",
       "    <tr>\n",
       "      <th>155</th>\n",
       "      <td>1589272782206291968</td>\n",
       "      <td>2022-11-06</td>\n",
       "      <td>rodriigc296</td>\n",
       "      <td>RT @willfulchaos: 77 degrees in november.. GRE...</td>\n",
       "      <td>LABEL_1</td>\n",
       "      <td>0.603097</td>\n",
       "    </tr>\n",
       "    <tr>\n",
       "      <th>294</th>\n",
       "      <td>1589269353161453569</td>\n",
       "      <td>2022-11-06</td>\n",
       "      <td>danielcapitaooo</td>\n",
       "      <td>RT @willfulchaos: 77 degrees in november.. GRE...</td>\n",
       "      <td>LABEL_1</td>\n",
       "      <td>0.603097</td>\n",
       "    </tr>\n",
       "    <tr>\n",
       "      <th>458</th>\n",
       "      <td>1589265635271651328</td>\n",
       "      <td>2022-11-06</td>\n",
       "      <td>Hanauta_Br00k</td>\n",
       "      <td>RT @PeterSweden7: Greta Thunberg says that she...</td>\n",
       "      <td>LABEL_1</td>\n",
       "      <td>0.494513</td>\n",
       "    </tr>\n",
       "    <tr>\n",
       "      <th>3</th>\n",
       "      <td>1589275965167128576</td>\n",
       "      <td>2022-11-06</td>\n",
       "      <td>mbarminski</td>\n",
       "      <td>RT @PeterSweden7: Greta Thunberg says that she...</td>\n",
       "      <td>LABEL_1</td>\n",
       "      <td>0.494513</td>\n",
       "    </tr>\n",
       "    <tr>\n",
       "      <th>27</th>\n",
       "      <td>1589275460474900481</td>\n",
       "      <td>2022-11-06</td>\n",
       "      <td>TheBillyBatson</td>\n",
       "      <td>RT @PeterSweden7: Greta Thunberg says that she...</td>\n",
       "      <td>LABEL_1</td>\n",
       "      <td>0.494513</td>\n",
       "    </tr>\n",
       "  </tbody>\n",
       "</table>\n",
       "</div>"
      ],
      "text/plain": [
       "                 TweetId  created_at             User  \\\n",
       "155  1589272782206291968  2022-11-06      rodriigc296   \n",
       "294  1589269353161453569  2022-11-06  danielcapitaooo   \n",
       "458  1589265635271651328  2022-11-06    Hanauta_Br00k   \n",
       "3    1589275965167128576  2022-11-06       mbarminski   \n",
       "27   1589275460474900481  2022-11-06   TheBillyBatson   \n",
       "\n",
       "                                                 Tweet sentiment_polarity  \\\n",
       "155  RT @willfulchaos: 77 degrees in november.. GRE...            LABEL_1   \n",
       "294  RT @willfulchaos: 77 degrees in november.. GRE...            LABEL_1   \n",
       "458  RT @PeterSweden7: Greta Thunberg says that she...            LABEL_1   \n",
       "3    RT @PeterSweden7: Greta Thunberg says that she...            LABEL_1   \n",
       "27   RT @PeterSweden7: Greta Thunberg says that she...            LABEL_1   \n",
       "\n",
       "     sentiment_score  \n",
       "155         0.603097  \n",
       "294         0.603097  \n",
       "458         0.494513  \n",
       "3           0.494513  \n",
       "27          0.494513  "
      ]
     },
     "execution_count": 96,
     "metadata": {},
     "output_type": "execute_result"
    }
   ],
   "source": [
    "df['sentiment_polarity'] = df.apply(lambda x: x['sentiment'][0]['label'], axis=1)\n",
    "df['sentiment_score'] = df.apply(lambda x: x['sentiment'][0]['score'], axis=1)\n",
    "df = df.drop(columns=['sentiment'])\n",
    "df.sample(5)"
   ]
  },
  {
   "cell_type": "code",
   "execution_count": 97,
   "id": "621f8c5f-a503-4ea2-b8bc-73a7d637cd1c",
   "metadata": {},
   "outputs": [
    {
     "data": {
      "text/html": [
       "<div>\n",
       "<style scoped>\n",
       "    .dataframe tbody tr th:only-of-type {\n",
       "        vertical-align: middle;\n",
       "    }\n",
       "\n",
       "    .dataframe tbody tr th {\n",
       "        vertical-align: top;\n",
       "    }\n",
       "\n",
       "    .dataframe thead th {\n",
       "        text-align: right;\n",
       "    }\n",
       "</style>\n",
       "<table border=\"1\" class=\"dataframe\">\n",
       "  <thead>\n",
       "    <tr style=\"text-align: right;\">\n",
       "      <th></th>\n",
       "      <th>TweetId</th>\n",
       "      <th>created_at</th>\n",
       "      <th>User</th>\n",
       "      <th>Tweet</th>\n",
       "      <th>sentiment_polarity</th>\n",
       "      <th>sentiment_score</th>\n",
       "    </tr>\n",
       "  </thead>\n",
       "  <tbody>\n",
       "    <tr>\n",
       "      <th>171</th>\n",
       "      <td>1589272441884327937</td>\n",
       "      <td>2022-11-06</td>\n",
       "      <td>wakanakaflame</td>\n",
       "      <td>RT @willfulchaos: 77 degrees in november.. GRE...</td>\n",
       "      <td>neutral</td>\n",
       "      <td>0.603097</td>\n",
       "    </tr>\n",
       "    <tr>\n",
       "      <th>443</th>\n",
       "      <td>1589266031507570688</td>\n",
       "      <td>2022-11-06</td>\n",
       "      <td>tcastandrew</td>\n",
       "      <td>RT @PeterSweden7: Greta Thunberg says that she...</td>\n",
       "      <td>neutral</td>\n",
       "      <td>0.494513</td>\n",
       "    </tr>\n",
       "    <tr>\n",
       "      <th>367</th>\n",
       "      <td>1589268032236711937</td>\n",
       "      <td>2022-11-06</td>\n",
       "      <td>RomadXYZ</td>\n",
       "      <td>RT @PeterSweden7: Greta Thunberg says that she...</td>\n",
       "      <td>neutral</td>\n",
       "      <td>0.494513</td>\n",
       "    </tr>\n",
       "    <tr>\n",
       "      <th>170</th>\n",
       "      <td>1589272479041998849</td>\n",
       "      <td>2022-11-06</td>\n",
       "      <td>HollyTa00354591</td>\n",
       "      <td>RT @PeterSweden7: Greta Thunberg says that she...</td>\n",
       "      <td>neutral</td>\n",
       "      <td>0.494513</td>\n",
       "    </tr>\n",
       "    <tr>\n",
       "      <th>274</th>\n",
       "      <td>1589269802249760770</td>\n",
       "      <td>2022-11-06</td>\n",
       "      <td>hugh_mcfadyen</td>\n",
       "      <td>RT @PeterSweden7: Greta Thunberg says that she...</td>\n",
       "      <td>neutral</td>\n",
       "      <td>0.494513</td>\n",
       "    </tr>\n",
       "  </tbody>\n",
       "</table>\n",
       "</div>"
      ],
      "text/plain": [
       "                 TweetId  created_at             User  \\\n",
       "171  1589272441884327937  2022-11-06    wakanakaflame   \n",
       "443  1589266031507570688  2022-11-06      tcastandrew   \n",
       "367  1589268032236711937  2022-11-06         RomadXYZ   \n",
       "170  1589272479041998849  2022-11-06  HollyTa00354591   \n",
       "274  1589269802249760770  2022-11-06    hugh_mcfadyen   \n",
       "\n",
       "                                                 Tweet sentiment_polarity  \\\n",
       "171  RT @willfulchaos: 77 degrees in november.. GRE...            neutral   \n",
       "443  RT @PeterSweden7: Greta Thunberg says that she...            neutral   \n",
       "367  RT @PeterSweden7: Greta Thunberg says that she...            neutral   \n",
       "170  RT @PeterSweden7: Greta Thunberg says that she...            neutral   \n",
       "274  RT @PeterSweden7: Greta Thunberg says that she...            neutral   \n",
       "\n",
       "     sentiment_score  \n",
       "171         0.603097  \n",
       "443         0.494513  \n",
       "367         0.494513  \n",
       "170         0.494513  \n",
       "274         0.494513  "
      ]
     },
     "execution_count": 97,
     "metadata": {},
     "output_type": "execute_result"
    }
   ],
   "source": [
    "#Rewrite polarity labels\n",
    "df['sentiment_polarity'] = df.sentiment_polarity.replace({'LABEL_0': 'negative','LABEL_1': 'neutral', 'LABEL_2': 'positive'})\n",
    "df.sample(5)"
   ]
  },
  {
   "cell_type": "code",
   "execution_count": 98,
   "id": "995b0ed7-7e7a-42ca-8964-a6870289ae0a",
   "metadata": {},
   "outputs": [
    {
     "data": {
      "text/plain": [
       "neutral     474\n",
       "negative     18\n",
       "positive      8\n",
       "Name: sentiment_polarity, dtype: int64"
      ]
     },
     "execution_count": 98,
     "metadata": {},
     "output_type": "execute_result"
    }
   ],
   "source": [
    "df.sentiment_polarity.value_counts()"
   ]
  },
  {
   "cell_type": "code",
   "execution_count": null,
   "id": "c928bd4e-54f7-433a-a22d-752aaf724e90",
   "metadata": {},
   "outputs": [],
   "source": []
  }
 ],
 "metadata": {
  "kernelspec": {
   "display_name": "Python 3 (ipykernel)",
   "language": "python",
   "name": "python3"
  },
  "language_info": {
   "codemirror_mode": {
    "name": "ipython",
    "version": 3
   },
   "file_extension": ".py",
   "mimetype": "text/x-python",
   "name": "python",
   "nbconvert_exporter": "python",
   "pygments_lexer": "ipython3",
   "version": "3.9.12"
  }
 },
 "nbformat": 4,
 "nbformat_minor": 5
}
