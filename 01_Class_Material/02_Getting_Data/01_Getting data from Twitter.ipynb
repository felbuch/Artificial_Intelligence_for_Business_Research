{
 "cells": [
  {
   "cell_type": "markdown",
   "id": "e3f09f59-0aab-4e85-a28f-36ee89db895e",
   "metadata": {},
   "source": [
    "## Install `tweepy` package\n",
    "\n",
    "Docs [here](https://docs.tweepy.org/en/v3.5.0/api.html#tweepy-api-twitter-api-wrapper)"
   ]
  },
  {
   "cell_type": "code",
   "execution_count": 1,
   "id": "f9badb11-8d51-4ad8-9ee4-b1118aeba86a",
   "metadata": {},
   "outputs": [],
   "source": [
    "!pip install -q tweepy"
   ]
  },
  {
   "cell_type": "markdown",
   "id": "dc0d2056-5adc-4180-8480-22b80dc5af58",
   "metadata": {},
   "source": [
    "## Read twitter credentials from file"
   ]
  },
  {
   "cell_type": "code",
   "execution_count": 6,
   "id": "0721e44b-835b-4c3e-9fd6-155bbd65f323",
   "metadata": {},
   "outputs": [],
   "source": [
    "import json"
   ]
  },
  {
   "cell_type": "code",
   "execution_count": 7,
   "id": "27ebc4a7-38ab-413d-b075-567620f742c3",
   "metadata": {},
   "outputs": [
    {
     "name": "stdout",
     "output_type": "stream",
     "text": [
      "dict_keys(['CONSUMER_KEY', 'CONSUMER_SECRET', 'ACCESS_TOKEN', 'ACCESS_SECRET'])\n"
     ]
    }
   ],
   "source": [
    "credentials_filename = 'twitter_credentials.json'\n",
    "\n",
    "with open('twitter_credentials.json') as f:\n",
    "    credentials = json.load(f)\n",
    "\n",
    "print(credentials.keys())"
   ]
  },
  {
   "cell_type": "markdown",
   "id": "8aa17a5b-888a-4857-99fa-840827c8df03",
   "metadata": {},
   "source": [
    "## Connect to Twitter"
   ]
  },
  {
   "cell_type": "code",
   "execution_count": 8,
   "id": "fac98920-0abd-49f4-8e95-4dff8291eec3",
   "metadata": {},
   "outputs": [],
   "source": [
    "# Import Tweepy\n",
    "import tweepy\n",
    "\n",
    "# Authenticate\n",
    "auth = tweepy.OAuthHandler(credentials['CONSUMER_KEY'], credentials['CONSUMER_SECRET'])\n",
    "auth.set_access_token(credentials['ACCESS_TOKEN'], credentials['ACCESS_SECRET'])\n",
    "api = tweepy.API(auth)"
   ]
  },
  {
   "cell_type": "markdown",
   "id": "9c5bb4f3-df21-44b9-b491-9851b9658cd3",
   "metadata": {},
   "source": [
    "## Extracting information from a user profile\n",
    "\n",
    "### Using user's screen name"
   ]
  },
  {
   "cell_type": "code",
   "execution_count": 9,
   "id": "7496032b-c6f4-4560-8745-c160ce0e83d4",
   "metadata": {},
   "outputs": [],
   "source": [
    "screen_name = \"bndes\"\n",
    "user = api.get_user(screen_name=screen_name)"
   ]
  },
  {
   "cell_type": "code",
   "execution_count": 10,
   "id": "396123bc-8cad-48f3-86a0-218275387daf",
   "metadata": {},
   "outputs": [
    {
     "data": {
      "text/plain": [
       "'O BNDES financia e estrutura projetos que fazem do Brasil um país mais sustentável e melhoram a vida do brasileiro. O Brasil pode contar com o BNDES.'"
      ]
     },
     "execution_count": 10,
     "metadata": {},
     "output_type": "execute_result"
    }
   ],
   "source": [
    "#Example of user info:\n",
    "user.description"
   ]
  },
  {
   "cell_type": "code",
   "execution_count": 11,
   "id": "a553a00a-5222-4e8d-84cc-90f84295941d",
   "metadata": {},
   "outputs": [
    {
     "name": "stdout",
     "output_type": "stream",
     "text": [
      "id  :  129892683\n",
      "id_str  :  129892683\n",
      "name  :  BNDES\n",
      "screen_name  :  bndes\n",
      "location  :  Brasil\n",
      "profile_location  :  None\n",
      "description  :  O BNDES financia e estrutura projetos que fazem do Brasil um país mais sustentável e melhoram a vida do brasileiro. O Brasil pode contar com o BNDES.\n",
      "url  :  https://t.co/NDnLjejdO9\n",
      "entities  :  {'url': {'urls': [{'url': 'https://t.co/NDnLjejdO9', 'expanded_url': 'http://www.bndes.gov.br', 'display_url': 'bndes.gov.br', 'indices': [0, 23]}]}, 'description': {'urls': []}}\n",
      "protected  :  False\n",
      "followers_count  :  298517\n",
      "friends_count  :  6716\n",
      "listed_count  :  964\n",
      "created_at  :  2010-04-05 18:38:41+00:00\n",
      "favourites_count  :  698\n",
      "utc_offset  :  None\n",
      "time_zone  :  None\n",
      "geo_enabled  :  True\n",
      "verified  :  True\n",
      "statuses_count  :  17670\n",
      "lang  :  None\n",
      "status  :  Status(_api=<tweepy.api.API object at 0x000001E480199FA0>, _json={'created_at': 'Thu Jun 30 20:50:06 +0000 2022', 'id': 1542611458911076353, 'id_str': '1542611458911076353', 'text': 'Saiba mais sobre o #JuntospelaSaúde, nova iniciativa no âmbito do #BNDESParcerias que vai  ampliar o acesso à saúde… https://t.co/jOQUy2V9BJ', 'truncated': True, 'entities': {'hashtags': [{'text': 'JuntospelaSaúde', 'indices': [19, 35]}, {'text': 'BNDESParcerias', 'indices': [66, 81]}], 'symbols': [], 'user_mentions': [], 'urls': [{'url': 'https://t.co/jOQUy2V9BJ', 'expanded_url': 'https://twitter.com/i/web/status/1542611458911076353', 'display_url': 'twitter.com/i/web/status/1…', 'indices': [117, 140]}]}, 'source': '<a href=\"https://www.facebook.com/socialmlabs/\" rel=\"nofollow\">mLabs - Gestão de Redes Sociais</a>', 'in_reply_to_status_id': None, 'in_reply_to_status_id_str': None, 'in_reply_to_user_id': None, 'in_reply_to_user_id_str': None, 'in_reply_to_screen_name': None, 'geo': None, 'coordinates': None, 'place': None, 'contributors': None, 'is_quote_status': False, 'retweet_count': 1, 'favorite_count': 10, 'favorited': False, 'retweeted': False, 'possibly_sensitive': False, 'lang': 'pt'}, created_at=datetime.datetime(2022, 6, 30, 20, 50, 6, tzinfo=datetime.timezone.utc), id=1542611458911076353, id_str='1542611458911076353', text='Saiba mais sobre o #JuntospelaSaúde, nova iniciativa no âmbito do #BNDESParcerias que vai  ampliar o acesso à saúde… https://t.co/jOQUy2V9BJ', truncated=True, entities={'hashtags': [{'text': 'JuntospelaSaúde', 'indices': [19, 35]}, {'text': 'BNDESParcerias', 'indices': [66, 81]}], 'symbols': [], 'user_mentions': [], 'urls': [{'url': 'https://t.co/jOQUy2V9BJ', 'expanded_url': 'https://twitter.com/i/web/status/1542611458911076353', 'display_url': 'twitter.com/i/web/status/1…', 'indices': [117, 140]}]}, source='mLabs - Gestão de Redes Sociais', source_url='https://www.facebook.com/socialmlabs/', in_reply_to_status_id=None, in_reply_to_status_id_str=None, in_reply_to_user_id=None, in_reply_to_user_id_str=None, in_reply_to_screen_name=None, geo=None, coordinates=None, place=None, contributors=None, is_quote_status=False, retweet_count=1, favorite_count=10, favorited=False, retweeted=False, possibly_sensitive=False, lang='pt')\n",
      "contributors_enabled  :  False\n",
      "is_translator  :  False\n",
      "is_translation_enabled  :  False\n",
      "profile_background_color  :  58857F\n",
      "profile_background_image_url  :  http://abs.twimg.com/images/themes/theme1/bg.png\n",
      "profile_background_image_url_https  :  https://abs.twimg.com/images/themes/theme1/bg.png\n",
      "profile_background_tile  :  False\n",
      "profile_image_url  :  http://pbs.twimg.com/profile_images/1465763531215843328/I4POZUp2_normal.png\n",
      "profile_image_url_https  :  https://pbs.twimg.com/profile_images/1465763531215843328/I4POZUp2_normal.png\n",
      "profile_banner_url  :  https://pbs.twimg.com/profile_banners/129892683/1654294417\n",
      "profile_link_color  :  36A391\n",
      "profile_sidebar_border_color  :  7D99BA\n",
      "profile_sidebar_fill_color  :  D9EBE6\n",
      "profile_text_color  :  000000\n",
      "profile_use_background_image  :  True\n",
      "has_extended_profile  :  False\n",
      "default_profile  :  False\n",
      "default_profile_image  :  False\n",
      "following  :  False\n",
      "follow_request_sent  :  False\n",
      "notifications  :  False\n",
      "translator_type  :  none\n",
      "withheld_in_countries  :  []\n"
     ]
    }
   ],
   "source": [
    "#Print all info extracted from user\n",
    "\n",
    "for k, v in user.__dict__.items():\n",
    "    if not k.startswith('_'):\n",
    "        print(k,' : ',v)"
   ]
  },
  {
   "cell_type": "markdown",
   "id": "03304fa2-1a35-4c17-98ff-5bc780729e92",
   "metadata": {},
   "source": [
    "### Using user's id"
   ]
  },
  {
   "cell_type": "code",
   "execution_count": 12,
   "id": "eccdb753-b31d-4a3a-8d46-c0dc48cd23f7",
   "metadata": {},
   "outputs": [],
   "source": [
    "user_id = \"15378611\"\n",
    "user2 = api.get_user(user_id=user_id)"
   ]
  },
  {
   "cell_type": "code",
   "execution_count": 13,
   "id": "bc03c0bd-d8f1-4947-9885-b7d9cbc398f6",
   "metadata": {},
   "outputs": [
    {
     "data": {
      "text/plain": [
       "'FGV'"
      ]
     },
     "execution_count": 13,
     "metadata": {},
     "output_type": "execute_result"
    }
   ],
   "source": [
    "user2.name"
   ]
  },
  {
   "cell_type": "code",
   "execution_count": 14,
   "id": "64255ccc-f8a5-4d53-942f-4db5c1a99e26",
   "metadata": {},
   "outputs": [
    {
     "name": "stdout",
     "output_type": "stream",
     "text": [
      "id  :  15378611\n",
      "id_str  :  15378611\n",
      "name  :  FGV\n",
      "screen_name  :  FGV\n",
      "location  :  Brasil\n",
      "profile_location  :  None\n",
      "description  :  Notícias sobre Índices, Cursos, Educação, Vestibular, Graduação, MBA, Mestrado, Doutorado. Conheça as demais páginas e perfis da FGV: https://t.co/mOVOndc4Tz\n",
      "url  :  https://t.co/hCTwYrsFwm\n",
      "entities  :  {'url': {'urls': [{'url': 'https://t.co/hCTwYrsFwm', 'expanded_url': 'http://fgv.br', 'display_url': 'fgv.br', 'indices': [0, 23]}]}, 'description': {'urls': [{'url': 'https://t.co/mOVOndc4Tz', 'expanded_url': 'http://linktr.ee/fgv', 'display_url': 'linktr.ee/fgv', 'indices': [134, 157]}]}}\n",
      "protected  :  False\n",
      "followers_count  :  91607\n",
      "friends_count  :  17\n",
      "listed_count  :  931\n",
      "created_at  :  2008-07-10 15:17:16+00:00\n",
      "favourites_count  :  336\n",
      "utc_offset  :  None\n",
      "time_zone  :  None\n",
      "geo_enabled  :  True\n",
      "verified  :  True\n",
      "statuses_count  :  38169\n",
      "lang  :  None\n",
      "status  :  Status(_api=<tweepy.api.API object at 0x000001E480199FA0>, _json={'created_at': 'Mon Oct 31 17:15:38 +0000 2022', 'id': 1587131193090252803, 'id_str': '1587131193090252803', 'text': '@Calijuri01 Parabéns pela sua conclusão da Pós-graduação, @Calijuri01 ! Esperamos que tenha sido uma experiência in… https://t.co/3EiGSdeOwN', 'truncated': True, 'entities': {'hashtags': [], 'symbols': [], 'user_mentions': [{'screen_name': 'Calijuri01', 'name': 'Guilherme Calijuri', 'id': 1498620166137122818, 'id_str': '1498620166137122818', 'indices': [0, 11]}, {'screen_name': 'Calijuri01', 'name': 'Guilherme Calijuri', 'id': 1498620166137122818, 'id_str': '1498620166137122818', 'indices': [58, 69]}], 'urls': [{'url': 'https://t.co/3EiGSdeOwN', 'expanded_url': 'https://twitter.com/i/web/status/1587131193090252803', 'display_url': 'twitter.com/i/web/status/1…', 'indices': [117, 140]}]}, 'source': '<a href=\"https://mobile.twitter.com\" rel=\"nofollow\">Twitter Web App</a>', 'in_reply_to_status_id': 1586697751651303428, 'in_reply_to_status_id_str': '1586697751651303428', 'in_reply_to_user_id': 1498620166137122818, 'in_reply_to_user_id_str': '1498620166137122818', 'in_reply_to_screen_name': 'Calijuri01', 'geo': None, 'coordinates': None, 'place': None, 'contributors': None, 'is_quote_status': False, 'retweet_count': 0, 'favorite_count': 1, 'favorited': False, 'retweeted': False, 'lang': 'pt'}, created_at=datetime.datetime(2022, 10, 31, 17, 15, 38, tzinfo=datetime.timezone.utc), id=1587131193090252803, id_str='1587131193090252803', text='@Calijuri01 Parabéns pela sua conclusão da Pós-graduação, @Calijuri01 ! Esperamos que tenha sido uma experiência in… https://t.co/3EiGSdeOwN', truncated=True, entities={'hashtags': [], 'symbols': [], 'user_mentions': [{'screen_name': 'Calijuri01', 'name': 'Guilherme Calijuri', 'id': 1498620166137122818, 'id_str': '1498620166137122818', 'indices': [0, 11]}, {'screen_name': 'Calijuri01', 'name': 'Guilherme Calijuri', 'id': 1498620166137122818, 'id_str': '1498620166137122818', 'indices': [58, 69]}], 'urls': [{'url': 'https://t.co/3EiGSdeOwN', 'expanded_url': 'https://twitter.com/i/web/status/1587131193090252803', 'display_url': 'twitter.com/i/web/status/1…', 'indices': [117, 140]}]}, source='Twitter Web App', source_url='https://mobile.twitter.com', in_reply_to_status_id=1586697751651303428, in_reply_to_status_id_str='1586697751651303428', in_reply_to_user_id=1498620166137122818, in_reply_to_user_id_str='1498620166137122818', in_reply_to_screen_name='Calijuri01', geo=None, coordinates=None, place=None, contributors=None, is_quote_status=False, retweet_count=0, favorite_count=1, favorited=False, retweeted=False, lang='pt')\n",
      "contributors_enabled  :  False\n",
      "is_translator  :  False\n",
      "is_translation_enabled  :  False\n",
      "profile_background_color  :  89C9FA\n",
      "profile_background_image_url  :  http://abs.twimg.com/images/themes/theme1/bg.png\n",
      "profile_background_image_url_https  :  https://abs.twimg.com/images/themes/theme1/bg.png\n",
      "profile_background_tile  :  True\n",
      "profile_image_url  :  http://pbs.twimg.com/profile_images/1546849323056513024/z7-A1cwm_normal.jpg\n",
      "profile_image_url_https  :  https://pbs.twimg.com/profile_images/1546849323056513024/z7-A1cwm_normal.jpg\n",
      "profile_banner_url  :  https://pbs.twimg.com/profile_banners/15378611/1657632126\n",
      "profile_link_color  :  003B79\n",
      "profile_sidebar_border_color  :  FFFFFF\n",
      "profile_sidebar_fill_color  :  F2F2F2\n",
      "profile_text_color  :  807B80\n",
      "profile_use_background_image  :  False\n",
      "has_extended_profile  :  True\n",
      "default_profile  :  False\n",
      "default_profile_image  :  False\n",
      "following  :  False\n",
      "follow_request_sent  :  False\n",
      "notifications  :  False\n",
      "translator_type  :  none\n",
      "withheld_in_countries  :  []\n"
     ]
    }
   ],
   "source": [
    "#Print all info extracted from user\n",
    "\n",
    "for k, v in user2.__dict__.items():\n",
    "    if not k.startswith('_'):\n",
    "        print(k,' : ',v)"
   ]
  },
  {
   "cell_type": "markdown",
   "id": "efa0c046-07d0-4177-af42-8126eb8ef5e0",
   "metadata": {},
   "source": [
    "## Fetching tweets from a user\n",
    "\n",
    "### From my own timeline"
   ]
  },
  {
   "cell_type": "code",
   "execution_count": 15,
   "id": "d894e1b9-4b17-433a-b5ba-93b013fd83fa",
   "metadata": {},
   "outputs": [
    {
     "name": "stdout",
     "output_type": "stream",
     "text": [
      "[]\n"
     ]
    }
   ],
   "source": [
    "my_tweets = api.home_timeline()\n",
    "print(my_tweets)"
   ]
  },
  {
   "cell_type": "markdown",
   "id": "880b38a7-7e82-4862-b189-031d6f0311a5",
   "metadata": {},
   "source": [
    "### From someone else\n",
    "\n",
    "#### Less than 200 tweets"
   ]
  },
  {
   "cell_type": "code",
   "execution_count": 16,
   "id": "589be102-05c4-41f3-b947-5d29fe66022e",
   "metadata": {},
   "outputs": [],
   "source": [
    "tweets = api.user_timeline(screen_name='FGV', count=10, tweet_mode='extended')"
   ]
  },
  {
   "cell_type": "markdown",
   "id": "801dbba2-926f-4994-b864-dbf2be77c91f",
   "metadata": {},
   "source": [
    "_Comments:_\n",
    "* Can search by screen name or by id\n",
    "* `Count` parameter. Max Count =200. For more tweets, we'll have to use _pagination_ (later)\n",
    "* Other arguments that might be useful: `exclude_replies` and `include_rts` (include retweets)\n",
    "* The output of this function is a sequence of tweets. Each tweet has the following pieces of information:"
   ]
  },
  {
   "cell_type": "code",
   "execution_count": 17,
   "id": "d3e07db8-50dc-4dd7-829c-80a5e1849073",
   "metadata": {},
   "outputs": [
    {
     "data": {
      "text/plain": [
       "['_api',\n",
       " '_json',\n",
       " 'created_at',\n",
       " 'id',\n",
       " 'id_str',\n",
       " 'full_text',\n",
       " 'truncated',\n",
       " 'display_text_range',\n",
       " 'entities',\n",
       " 'source',\n",
       " 'source_url',\n",
       " 'in_reply_to_status_id',\n",
       " 'in_reply_to_status_id_str',\n",
       " 'in_reply_to_user_id',\n",
       " 'in_reply_to_user_id_str',\n",
       " 'in_reply_to_screen_name',\n",
       " 'author',\n",
       " 'user',\n",
       " 'geo',\n",
       " 'coordinates',\n",
       " 'place',\n",
       " 'contributors',\n",
       " 'is_quote_status',\n",
       " 'retweet_count',\n",
       " 'favorite_count',\n",
       " 'favorited',\n",
       " 'retweeted',\n",
       " 'lang']"
      ]
     },
     "execution_count": 17,
     "metadata": {},
     "output_type": "execute_result"
    }
   ],
   "source": [
    "list(tweets[0].__dict__.keys())"
   ]
  },
  {
   "cell_type": "markdown",
   "id": "c25fe5a7-db3b-4371-8fef-083e5a8773b0",
   "metadata": {},
   "source": [
    "* For tweets to become human readable, they must be put into a dictionary or a dataframe. Since we'll be doing this a lot, let's make this into a function:"
   ]
  },
  {
   "cell_type": "code",
   "execution_count": 20,
   "id": "843e1187-d822-4239-a079-841a2edc69ac",
   "metadata": {},
   "outputs": [],
   "source": [
    "import pandas as pd"
   ]
  },
  {
   "cell_type": "code",
   "execution_count": 21,
   "id": "8bc75496-c3c1-4e55-b6ff-cc3c1cf774af",
   "metadata": {},
   "outputs": [],
   "source": [
    "def tweets2dataframe(tweets):\n",
    "    columns = ['TweetId', 'User', 'Tweet']\n",
    "    data = []\n",
    "    \n",
    "    for tweet in tweets:\n",
    "        data.append([tweet.id, tweet.user.screen_name, tweet.full_text])\n",
    "    \n",
    "    df = pd.DataFrame(data, columns=columns)\n",
    "    return(df)\n",
    "    "
   ]
  },
  {
   "cell_type": "code",
   "execution_count": 22,
   "id": "c08d0ee6-0b1c-439a-8fbd-385661e772d7",
   "metadata": {},
   "outputs": [
    {
     "data": {
      "text/html": [
       "<div>\n",
       "<style scoped>\n",
       "    .dataframe tbody tr th:only-of-type {\n",
       "        vertical-align: middle;\n",
       "    }\n",
       "\n",
       "    .dataframe tbody tr th {\n",
       "        vertical-align: top;\n",
       "    }\n",
       "\n",
       "    .dataframe thead th {\n",
       "        text-align: right;\n",
       "    }\n",
       "</style>\n",
       "<table border=\"1\" class=\"dataframe\">\n",
       "  <thead>\n",
       "    <tr style=\"text-align: right;\">\n",
       "      <th></th>\n",
       "      <th>TweetId</th>\n",
       "      <th>User</th>\n",
       "      <th>Tweet</th>\n",
       "    </tr>\n",
       "  </thead>\n",
       "  <tbody>\n",
       "    <tr>\n",
       "      <th>0</th>\n",
       "      <td>1587131193090252803</td>\n",
       "      <td>FGV</td>\n",
       "      <td>@Calijuri01 Parabéns pela sua conclusão da Pós...</td>\n",
       "    </tr>\n",
       "    <tr>\n",
       "      <th>1</th>\n",
       "      <td>1586810692388401152</td>\n",
       "      <td>FGV</td>\n",
       "      <td>#LivroGratuito | A questão migratória vem atra...</td>\n",
       "    </tr>\n",
       "    <tr>\n",
       "      <th>2</th>\n",
       "      <td>1586448315742392320</td>\n",
       "      <td>FGV</td>\n",
       "      <td>#CursoGratuito l Qual é a importância dos dete...</td>\n",
       "    </tr>\n",
       "    <tr>\n",
       "      <th>3</th>\n",
       "      <td>1586124696793141249</td>\n",
       "      <td>FGV</td>\n",
       "      <td>É possível fazer duas graduações em seis anos?...</td>\n",
       "    </tr>\n",
       "    <tr>\n",
       "      <th>4</th>\n",
       "      <td>1586060786350411777</td>\n",
       "      <td>FGV</td>\n",
       "      <td>Tweets únicos entregam informações rápidas, en...</td>\n",
       "    </tr>\n",
       "    <tr>\n",
       "      <th>5</th>\n",
       "      <td>1585977412201811969</td>\n",
       "      <td>FGV</td>\n",
       "      <td>#IGP_M | “Combustíveis fósseis e leite explica...</td>\n",
       "    </tr>\n",
       "    <tr>\n",
       "      <th>6</th>\n",
       "      <td>1585704382615748608</td>\n",
       "      <td>FGV</td>\n",
       "      <td>Um selo de confiança conquistado pela 16ª vez!...</td>\n",
       "    </tr>\n",
       "    <tr>\n",
       "      <th>7</th>\n",
       "      <td>1585613378755641351</td>\n",
       "      <td>FGV</td>\n",
       "      <td>Você já se inscreveu no vestibular para a grad...</td>\n",
       "    </tr>\n",
       "    <tr>\n",
       "      <th>8</th>\n",
       "      <td>1585333803605975042</td>\n",
       "      <td>FGV</td>\n",
       "      <td>Já conhece a Escola de Matemática Aplicada da ...</td>\n",
       "    </tr>\n",
       "    <tr>\n",
       "      <th>9</th>\n",
       "      <td>1585333800103739394</td>\n",
       "      <td>FGV</td>\n",
       "      <td>Para o futuro, a tendência é que teremos mais ...</td>\n",
       "    </tr>\n",
       "  </tbody>\n",
       "</table>\n",
       "</div>"
      ],
      "text/plain": [
       "               TweetId User                                              Tweet\n",
       "0  1587131193090252803  FGV  @Calijuri01 Parabéns pela sua conclusão da Pós...\n",
       "1  1586810692388401152  FGV  #LivroGratuito | A questão migratória vem atra...\n",
       "2  1586448315742392320  FGV  #CursoGratuito l Qual é a importância dos dete...\n",
       "3  1586124696793141249  FGV  É possível fazer duas graduações em seis anos?...\n",
       "4  1586060786350411777  FGV  Tweets únicos entregam informações rápidas, en...\n",
       "5  1585977412201811969  FGV  #IGP_M | “Combustíveis fósseis e leite explica...\n",
       "6  1585704382615748608  FGV  Um selo de confiança conquistado pela 16ª vez!...\n",
       "7  1585613378755641351  FGV  Você já se inscreveu no vestibular para a grad...\n",
       "8  1585333803605975042  FGV  Já conhece a Escola de Matemática Aplicada da ...\n",
       "9  1585333800103739394  FGV  Para o futuro, a tendência é que teremos mais ..."
      ]
     },
     "execution_count": 22,
     "metadata": {},
     "output_type": "execute_result"
    }
   ],
   "source": [
    "tweets2dataframe(tweets)"
   ]
  },
  {
   "cell_type": "markdown",
   "id": "0a71006f-2e28-4254-8e7b-97b1a4f86f3f",
   "metadata": {},
   "source": [
    "#### More than 200 tweets\n",
    "\n",
    "If you want to paginate through the search results, you need to use _pagination_. This can be done with the `Cursor` object.\n",
    "\n",
    "Pagination can be done in 2 ways:\n",
    "1. By specifying how many tweets we want to get. To do this, we use the `items` method.\n",
    "2. By specifying how many pages we want to look at. To do this, we use the `pages` method.\n",
    "\n",
    "Let's learn how to do both of them."
   ]
  },
  {
   "cell_type": "markdown",
   "id": "08f5262f-2183-4e2d-92b4-e53cbe2acd03",
   "metadata": {},
   "source": [
    "##### Specifying the number of tweets"
   ]
  },
  {
   "cell_type": "code",
   "execution_count": 23,
   "id": "38abe3b6-5faa-4fa5-b412-786405cd9d50",
   "metadata": {},
   "outputs": [
    {
     "data": {
      "text/html": [
       "<div>\n",
       "<style scoped>\n",
       "    .dataframe tbody tr th:only-of-type {\n",
       "        vertical-align: middle;\n",
       "    }\n",
       "\n",
       "    .dataframe tbody tr th {\n",
       "        vertical-align: top;\n",
       "    }\n",
       "\n",
       "    .dataframe thead th {\n",
       "        text-align: right;\n",
       "    }\n",
       "</style>\n",
       "<table border=\"1\" class=\"dataframe\">\n",
       "  <thead>\n",
       "    <tr style=\"text-align: right;\">\n",
       "      <th></th>\n",
       "      <th>TweetId</th>\n",
       "      <th>User</th>\n",
       "      <th>Tweet</th>\n",
       "    </tr>\n",
       "  </thead>\n",
       "  <tbody>\n",
       "    <tr>\n",
       "      <th>0</th>\n",
       "      <td>1542611458911076353</td>\n",
       "      <td>bndes</td>\n",
       "      <td>Saiba mais sobre o #JuntospelaSaúde, nova inic...</td>\n",
       "    </tr>\n",
       "    <tr>\n",
       "      <th>1</th>\n",
       "      <td>1542535379982733313</td>\n",
       "      <td>bndes</td>\n",
       "      <td>#VocêViu que o #BNDES anunciou o resultado da ...</td>\n",
       "    </tr>\n",
       "    <tr>\n",
       "      <th>2</th>\n",
       "      <td>1542246643046694912</td>\n",
       "      <td>bndes</td>\n",
       "      <td>#VocêViu o produto que o BNDES lançou? É o BND...</td>\n",
       "    </tr>\n",
       "    <tr>\n",
       "      <th>3</th>\n",
       "      <td>1542154474537598977</td>\n",
       "      <td>bndes</td>\n",
       "      <td>É sempre bom poder contar com uma #BoaNotícia,...</td>\n",
       "    </tr>\n",
       "    <tr>\n",
       "      <th>4</th>\n",
       "      <td>1542141037006786566</td>\n",
       "      <td>bndes</td>\n",
       "      <td>O workshop “Soluções Baseadas na Natureza para...</td>\n",
       "    </tr>\n",
       "    <tr>\n",
       "      <th>...</th>\n",
       "      <td>...</td>\n",
       "      <td>...</td>\n",
       "      <td>...</td>\n",
       "    </tr>\n",
       "    <tr>\n",
       "      <th>295</th>\n",
       "      <td>1494669065075503108</td>\n",
       "      <td>bndes</td>\n",
       "      <td>A maior feira do mundo vai ter a melhor ilumin...</td>\n",
       "    </tr>\n",
       "    <tr>\n",
       "      <th>296</th>\n",
       "      <td>1494070519028662275</td>\n",
       "      <td>bndes</td>\n",
       "      <td>@OficialEMBRAPII Obrigado, EMBRAPII. Será um p...</td>\n",
       "    </tr>\n",
       "    <tr>\n",
       "      <th>297</th>\n",
       "      <td>1494069140264570880</td>\n",
       "      <td>bndes</td>\n",
       "      <td>Já anotou na agenda? Na terça, dia 22,  aconte...</td>\n",
       "    </tr>\n",
       "    <tr>\n",
       "      <th>298</th>\n",
       "      <td>1494010517387681794</td>\n",
       "      <td>bndes</td>\n",
       "      <td>E aqui você tem os resultados: empresas benefi...</td>\n",
       "    </tr>\n",
       "    <tr>\n",
       "      <th>299</th>\n",
       "      <td>1494009001486569473</td>\n",
       "      <td>bndes</td>\n",
       "      <td>Quer mais detalhes de tudo o que o BNDES fez p...</td>\n",
       "    </tr>\n",
       "  </tbody>\n",
       "</table>\n",
       "<p>300 rows × 3 columns</p>\n",
       "</div>"
      ],
      "text/plain": [
       "                 TweetId   User  \\\n",
       "0    1542611458911076353  bndes   \n",
       "1    1542535379982733313  bndes   \n",
       "2    1542246643046694912  bndes   \n",
       "3    1542154474537598977  bndes   \n",
       "4    1542141037006786566  bndes   \n",
       "..                   ...    ...   \n",
       "295  1494669065075503108  bndes   \n",
       "296  1494070519028662275  bndes   \n",
       "297  1494069140264570880  bndes   \n",
       "298  1494010517387681794  bndes   \n",
       "299  1494009001486569473  bndes   \n",
       "\n",
       "                                                 Tweet  \n",
       "0    Saiba mais sobre o #JuntospelaSaúde, nova inic...  \n",
       "1    #VocêViu que o #BNDES anunciou o resultado da ...  \n",
       "2    #VocêViu o produto que o BNDES lançou? É o BND...  \n",
       "3    É sempre bom poder contar com uma #BoaNotícia,...  \n",
       "4    O workshop “Soluções Baseadas na Natureza para...  \n",
       "..                                                 ...  \n",
       "295  A maior feira do mundo vai ter a melhor ilumin...  \n",
       "296  @OficialEMBRAPII Obrigado, EMBRAPII. Será um p...  \n",
       "297  Já anotou na agenda? Na terça, dia 22,  aconte...  \n",
       "298  E aqui você tem os resultados: empresas benefi...  \n",
       "299  Quer mais detalhes de tudo o que o BNDES fez p...  \n",
       "\n",
       "[300 rows x 3 columns]"
      ]
     },
     "execution_count": 23,
     "metadata": {},
     "output_type": "execute_result"
    }
   ],
   "source": [
    "user = 'bndes'\n",
    "# Set the limit of number of records\n",
    "n_tweets=300\n",
    "\n",
    "# Search using pagination\n",
    "tweets = tweepy.Cursor(api.user_timeline, screen_name=user, tweet_mode='extended').items(n_tweets)\n",
    "\n",
    "# Create a dataframe with the results\n",
    "df = tweets2dataframe(tweets)\n",
    "\n",
    "df"
   ]
  },
  {
   "cell_type": "markdown",
   "id": "1d8d9e62-83dd-4a08-9d62-d352dff4beeb",
   "metadata": {},
   "source": [
    "##### Specifying the number of pages "
   ]
  },
  {
   "cell_type": "code",
   "execution_count": 24,
   "id": "d61efd75-0580-44fc-9f75-50c76beacc23",
   "metadata": {},
   "outputs": [
    {
     "name": "stdout",
     "output_type": "stream",
     "text": [
      "1 @Calijuri01 Parabéns pela sua conclusão da Pós-graduação, @Calijuri01 ! Esperamos que tenha sido uma experiência incrível para a carreira e desejamos sucesso. Agradecemos por compartilhar! 💙 \n",
      "\n",
      "2 #LivroGratuito | A questão migratória vem atraindo atenção e opiniões pelo mundo. A FGV DAPP acompanhou o debate sobre a aprovação da Lei da Migração, em 2017. Faça o download do estudo: https://t.co/P4fCcM1v90 #FGVDicas https://t.co/L3TFNsJYej \n",
      "\n",
      "3 #CursoGratuito l Qual é a importância dos determinantes sociais de saúde? Ao longo do curso, você aprenderá sobre os indicadores globais e nacionais do setor e entenderá o impacto de cada um na sociedade. Inscreva-se: https://t.co/NzScSyw2WX #FGVDicas https://t.co/XAtcBOrtjn \n",
      "\n",
      "4 É possível fazer duas graduações em seis anos? Sim! A @FGV_EAESP  e a @FGVDireitoSP criaram as duas opções de dupla graduação. Quer saber mais? Acesse o blog: https://t.co/6gpgKQxNXW #FGVDicas \n",
      "\n",
      "5 Tweets únicos entregam informações rápidas, enquanto as threads podem ser um meio de se aprofundar em um assunto sem sair da rede. Para que possamos entender como você prefere consumir o conteúdo publicado pela FGV no Twitter, responda:\n",
      "\n",
      "💬 Você prefere tweets únicos ou threads? \n",
      "\n",
      "6 #IGP_M | “Combustíveis fósseis e leite explicam a nova queda registrada pela taxa do IGP-M. No âmbito do produtor, os destaques foram óleo Diesel e leite in natura”, afirma André Braz, do @FGVIBRE. Saiba mais: https://t.co/c5AlX9a8ZJ. #FGVÍndices https://t.co/e1mIB8rm6H \n",
      "\n",
      "7 Um selo de confiança conquistado pela 16ª vez! 💙 Na 25ª edição do prêmio Top of Mind de RH, o FGV Online conquistou o troféu na categoria Educação a Distância. Você sabia que é a principal premiação do segmento de RH no Brasil? Saiba mais: https://t.co/skmZGRSdgs #OrgulhoFGV https://t.co/C08Q2xD9QS \n",
      "\n",
      "8 Você já se inscreveu no vestibular para a graduação em Comunicação Digital da @FGVECMI? 🙌As inscrições foram prorrogadas até sexta-feira, 28/10! O curso é uma das novidades deste ano e une Ciência de Dados, Ciências Sociais e Linguística. Saiba mais: https://t.co/OUc9afnssI https://t.co/wUbKLr9MSP \n",
      "\n",
      "9 Já conhece a Escola de Matemática Aplicada da FGV? Saiba mais sobre os cursos de graduação, mestrado e doutorado: https://t.co/abo2iuYdJL. 💙 \n",
      "\n",
      "10 Para o futuro, a tendência é que teremos mais objetos conectados e uma demanda de mercado com vagas para profissionais que dominem a Matemática Aplicada e a Ciência de Dados, em áreas de atuação como análise de dados e machine learning. 🤖 \n",
      "\n",
      "11 Por isso, se você quer seguir na carreira, é importante, além dos conhecimentos como álgebra e análise, buscar compreender sobre probabilidade, estatística, programação e dominar o inglês. 📈 \n",
      "\n",
      "12 Sabe a pesquisa que você fez hoje no Google ou o GPS que te ajuda a chegar a um destino com facilidade? 🔎 A Matemática Aplicada colabora para que algoritmos, como o PageRank, consigam entregar resultados otimizados que facilitam o dia a dia. \n",
      "\n",
      "13 Agora, é possível resolver problemas matemáticos de grande porte, com mais variáveis, além de modelar aplicações mais precisas da vida real. 🧠💻 https://t.co/YZ0GgvoAMG \n",
      "\n",
      "14 Se por um lado a Matemática Aplicada é beneficiada com o avanço tecnológico, expandindo as suas possibilidades de atuação, por outro, ela também é uma das principais áreas que contribuem para essa evolução. 💡 \n",
      "\n",
      "15 O conteúdo foi elaborado com a colaboração do professor Vincent Guigues, da Escola de Matemática Aplicada da FGV, a FGV EMAp. \n",
      "\n",
      "16 Os avanços tecnológicos têm impressionado, especialmente com a aceleração digital vivida nos últimos anos. Neste #DiadoMatemático, vamos falar sobre como essa profissão é fundamental para que tudo isso aconteça. Siga o fio 👇 : #FGVCarreiras https://t.co/MTzqPXZntp \n",
      "\n",
      "17 #INCC_M | O Índice Nacional de Custo da Construção – M, calculado pelo @FGVIBRE, variou 0,04% em outubro, percentual inferior ao apurado no mês anterior, quando o índice registrou taxa de 0,10%. Saiba mais: https://t.co/hQvkya35sf. #FGVÍndices https://t.co/0D7g0jEXsT \n",
      "\n",
      "18 🟦 31/10 - 18h | Webinar | Ambiente digital, métricas e operações de trade marketing no PDV de canais key accounts https://t.co/oQHkh1TkgP \n",
      "\n",
      "19 🟦 28/10 - 10h| Webinar | Desenvolvimento, tributação e mudanças climáticas https://t.co/TKwDMmA088\n",
      "\n",
      "🟦 28/10 - 14h | Webinar | Pesquisa e escrita acadêmica: Treinamento pesquisa às bases de dados https://t.co/QklI21XJAE \n",
      "\n",
      "20 🟦 27/10 - 18h | Webinar | Conversa com o empreendedor | Bate-papo com Pedro Tonhozi e Pedro Conrade - CEO do Banco Neon https://t.co/iYcTdxPY7W\n",
      "\n",
      "🟦 27/10 - 18h | Webinar | Práticas da agenda ESG: potencialidades, incertezas e ajustes de regulação https://t.co/xBejqkIaMm \n",
      "\n",
      "*********End of Page 1*********\n",
      "1 🟦 27/10 - 14h | Webinar | Capital Market Talks - Regulação para proteger investidores e desenvolver a criptoeconomia https://t.co/t56AE1zap0 \n",
      "\n",
      "2 🟦 26/10 - 14h |Webinar | Diálogos Além-Mares: Escassez Hídrica https://t.co/QR4bzNHBXm\n",
      "\n",
      "🟦 26/10 - 19h | Webinar | Multiplicando Lucros com Big Data: Um caso brasileiro de excelência https://t.co/AjDJ1C8WGs \n",
      "\n",
      "3 🟦 26/10 - 10h | Webinar | Ética, Compliance e Agenda Global | https://t.co/BvT7HzfHjc​\n",
      "\n",
      "🟦 26/10 - 10h  | Webinar | Compliance no Esporte https://t.co/2ORXvJ7uTF \n",
      "\n",
      "4 Ética, compliance, criptoeconomia, inovação digital e big data são alguns dos temas abordados nos eventos dos próximos dias. Qual desses assuntos mais te interessa? Conheça a programação e participe das discussões! 👇 #AcontecenaFGV https://t.co/KVpyJcstDD \n",
      "\n",
      "5 #LivroGratuito | Este e-book compartilha os aprendizados na construção de um processo participativo de capacitação e reflexão conjunta sobre o sistema no contexto da Educação Básica. Faça o download: https://t.co/frbiJ7ghF2 #FGVDicas https://t.co/H1omWJzjUb \n",
      "\n",
      "6 #CursoGratuito | Neste curso, além de aprender como descrever as competências avaliadas na Prova Brasil, você entenderá os processos que envolvem a construção de indicadores de qualidade e desigualdade da educação. Inscreva-se: https://t.co/IX4bd9EKGr #FGVDicas https://t.co/sy7UgMINa8 \n",
      "\n",
      "7 @RMUTO_ Olá, @RMUTO_ ! Tudo bem? Para darmos continuidade ao atendimento poderia, por gentileza, nos enviar uma mensagem privada? \n",
      "\n",
      "8 Mora em outro estado e quer estudar na FGV? A nossa parceria entre a Uliving oferece moradia moderna, bem localizada e segura, que atende o perfil dos nossos estudantes. Saiba mais sobre a estrutura. Acesse o blog: https://t.co/W4w1A6Hvq7 #FGVDicas \n",
      "\n",
      "9 @estrela_ada @governodoamapa Olá, @estrela_ada ! Tudo bem? Enviamos uma mensagem privada para você. \n",
      "\n",
      "10 @DandaraCr Olá, @DandaraCr ! Tudo bem? Para darmos continuidade ao seu atendimento poderia, por gentileza, nos enviar uma mensagem privada? \n",
      "\n",
      "11 Diariamente, preparamos diversas publicações para que os nossos seguidores conheçam melhor a FGV e se informem sobre temas relevantes para a sociedade. Por isso, gostaríamos de saber: \n",
      "\n",
      "💬 Qual é o seu nível de satisfação com os conteúdos publicados na página da FGV no Twitter? \n",
      "\n",
      "12 🟦 25/10 - 10h | Webinar | Transparência e Blockchain https://t.co/AMHIelFZnX​\n",
      "\n",
      "🟦 25/10 - 18h | Webinar | Mestrado Profissional em Gestão para Competitividade: Metaverso - Inovação digital para transformar e gerar valor https://t.co/XnvTnPvCVm \n",
      "\n",
      "13 🟦 24 /10 - 18h | Webinar | MasterTalks | Economia e mudanças climáticas: Desafios para o Brasil https://t.co/tbWETkH0TD\n",
      "\n",
      "🟦 25/10 - 09h | A Nova Lei de Licitações e Contratos: Inovações, perspectivas e paradigmas https://t.co/280xe5CgPz \n",
      "\n",
      "14 🟦 24/10 - 18h | Webinar | Mestrado Profissional em Gestão para Competitividade: Economia e finanças em tempos de pós pandemia, conflitos bélicos e eleição https://t.co/4vgOYVuNEI​\n",
      "\n",
      "🟦 24/10 - 18h | Webinar | Finanças em ambiente de incerteza https://t.co/R8zvLc4Av6 \n",
      "\n",
      "15 🟦 20/10 - 14h | Webinar | Vestibular FGV | Conheça a graduação em Administração Pública da EPPG https://t.co/VwvMlIHL36​\n",
      "\n",
      "🟦 20/10 - 18h | Webinar | Aplicação de ferramentas de business intelligence nas empresas https://t.co/LvSFSq1dHh \n",
      "\n",
      "16 🟦 19/10 - 08:30 | Fórum de Varejo e Consumo FGVcev 2022 https://t.co/2oQ9LvXOuH\n",
      "\n",
      "🟦 19/10 - 18h | Webinar | Ser docente no ensino jurídico - 4ª Edição do Prêmio Esdras de Ensino do Direito https://t.co/U2eItkNyIY \n",
      "\n",
      "17 A agenda de eventos desta semana conta com uma diversidade de temas para quem quer se atualizar, como finanças em ambiente de incerteza e varejo e consumo. Acesse o calendário e saiba mais sobre os eventos. #AcontecenaFGV https://t.co/PMagjLH9rW \n",
      "\n",
      "18 O Vestibular FGV 2023 está com 1.362 vagas abertas para as Escolas no Rio de Janeiro, São Paulo e Brasília. Os interessados em participar do processo seletivo devem se inscrever até sexta-feira, 21/10, às 18h. Saiba mais: https://t.co/c2exMiplRZ #CursosFGV \n",
      "\n",
      "19 #IGP_10 | “Leite e combustíveis foram os grandes destaques para a inflação ao produtor e ao consumidor. No IPA, as maiores contribuições para a queda do índice foram leite in natura e óleo Diesel\", explica André Braz, do @FGVIBRE. Saiba mais: https://t.co/ccnwqsZfUU. #FGVÍndices https://t.co/Lu6QUFisNZ \n",
      "\n",
      "20 Quais foram os impactos da pandemia na insegurança alimentar no Brasil? De acordo com o @CPS_FGV, em 2021, 36% dos brasileiros tiveram dificuldades para alimentar a família. Acesse a pesquisa “Insegurança Alimentar no Brasil” e saiba mais sobre o cenário: https://t.co/9zTPWRtrCC https://t.co/yNRdLtEhvV \n",
      "\n",
      "*********End of Page 2*********\n",
      "1 #LivroGratuito l Quais são as proposições legislativas sobre fake news no congresso nacional? No e-book \"Estratégias contra Fake News\", você acessa uma análise empírica da atuação de instituições públicas no combate a esse fenômeno. Acesse: https://t.co/UPBurH6pW8 #FGVDicas https://t.co/Mh5jpfOjhP \n",
      "\n",
      "2 #CursoGratuito | Você sabe quais são os aspectos essenciais da atividade financeira do Estado? Neste curso, você aprenderá sobre administração e gestão dos recursos públicos. Conheça os temas de cada unidade e participe: https://t.co/tlVzICn2FS #FGVDicas https://t.co/2zMa0vpgaT \n",
      "\n",
      "3 O workshop, promovido pelo CEPI, da @FGVDireitoSP, busca um espaço de experimentação de novas ferramentas e metodologias de aprendizagem com foco em profissionais que desempenhem atividades de ensino em cursos de Direito. Saiba mais: https://t.co/wpb4gVM5gN. #CursosFGV \n",
      "\n",
      "4 #IPC_S | De acordo com o @FGVIBRE, o IPC-S da primeira quadrissemana de outubro de 2022 subiu 0,26% e acumulou alta de 4,60%. A maior contribuição para o resultado do índice foi do grupo Transportes. Saiba mais: https://t.co/nWhCB6KGok. #FGVÍndices https://t.co/qqEDJ2YRzi \n",
      "\n",
      "5 Você sabia que a FGV possui opções de bolsas de estudos para seus cursos de graduação? No blog do #VestibularFGV, explicamos como você pode conquistar as bolsas integrais, reembolsáveis e por mérito! 🙌 Acesse o link: https://t.co/6ta134MbQA #FGVDica \n",
      "\n",
      "6 🟦 18/10 - 18h | Webinar | Mestre em Gestão de Saúde FGV: Esteja pronto para a transformação do mercado https://t.co/wrRVyzXtDk\n",
      "\n",
      "🟦 18/10 - 19h | Webinar | Conheça a 2ª Graduação em Contabilidade, Finanças e Analytics da FGV https://t.co/1WSHCzu2sL \n",
      "\n",
      "7 🟦 18/10 - 14h  | Webinar | Desafios do professor na Educação em tempo integral https://t.co/q2V8Wg4cJ8\n",
      "\n",
      "🟦 18/10 - 18h | Webinar | Desafios e perspectivas dos fundos quantitativos https://t.co/V0ofIAi7Hg \n",
      "\n",
      "8 🟦 17/10 - 18h | Um excelente gestor ou um líder fenomenal: Como você se vê no futuro da sua carreira? https://t.co/CbXWUcEvDH\n",
      "\n",
      "🟦 17/10 - 19h  | Webinar | Vestibular FGV | Conheça a graduação em Administração de Empresas da EPPG https://t.co/ia8QihgZ5l \n",
      "\n",
      "9 🟦 14/10 - 14h |Webinar | Pesquisa e Escrita Acadêmica: Avaliação de fontes de informação https://t.co/mI6EV0uoRd\n",
      "\n",
      "🟦 14/10 - 18h | Webinar | Defesa da concorrência e regulação no próximo governo https://t.co/c3WAgVp4h7 \n",
      "\n",
      "10 🟦13/10  - 14h | Webinar | Bate-papo sobre Graduação em Comunicação Digital com a FGV ECMI https://t.co/f02lfEU19E​\n",
      "\n",
      "🟦 13/10 - 18:30 | Webinar | Carreira e empregabilidade de jovens profissionais https://t.co/JlUNCiiZGf \n",
      "\n",
      "11 Nesta semana, nossa agenda começa com um bate-papo sobre a Graduação em Comunicação Digital para quem quer saber tudo sobre o novo curso, além de outros temas. Acesse e inscreva-se: https://t.co/x992eYf6jP #AcontecenaFGV https://t.co/tDFWAbWXik \n",
      "\n",
      "12 As consequências da pandemia revelaram uma grande preocupação com a saúde mental da população. Falar sobre depressão não deve ser um tabu. No Dia Mundial da Saúde Mental, relembramos o artigo sobre prevenção ao suicídio, do FGV NAP. Acesse: https://t.co/cyeaqhB06F https://t.co/2UviiF0YJ4 \n",
      "\n",
      "13 #LivroGratuito l Como repensar o futuro do ensino jurídico? Além de refletir sobre as mudanças profissionais e sociais que interferem nas dinâmicas de sala de aula, os autores discutem sobre o papel da faculdade de Direito. Faça o download: https://t.co/mAcZXhkHzQ #FGVDicas https://t.co/Qev2ABn2bs \n",
      "\n",
      "14 #CursoGratuito | Quais são as diferentes dimensões da ideia de brasilidade? Aprenda a reconhecer as matrizes interpretativas da identidade nacional por meio das 4 unidades deste curso. Inscreva-se: https://t.co/0jH3ePyhrS #FGVDicas https://t.co/IRLVsQkcyE \n",
      "\n",
      "15 O estudo realizado por Marco Tulio Zanini, professor da @FGVEBAPE, em parceria com os pesquisadores Jun Kang e Zihe Diao, recebeu o prêmio internacional Outstanding Paper Emerald Award 2022. Acesse. #FGVImpactoSocial #OrgulhoFGV\n",
      "https://t.co/gLe5ioVRIb \n",
      "\n",
      "16 @voizaoprz @romulosant1 @annacbomfim Olá, @voizaoprz! Tudo bem? Para darmos continuidade ao atendimento poderia, por gentileza, nos enviar uma mensagem privada? \n",
      "\n",
      "17 @romulosant1 @annacbomfim Olá, @romulosant1 ! Tudo bem? Para darmos continuidade ao atendimento poderia, por gentileza, nos enviar uma mensagem privada? \n",
      "\n",
      "18 @marcusmarugo Olá, @marcusmarugo ! Tudo bem? A FGV Conhecimento, unidade responsável pela realização de exames e concursos, atende através do e-mail concursocbmerj22@fgv.br ou pelo telefone 0800 2834628. \n",
      "\n",
      "19 Mais um destaque da @FGVECMI no @nytimes! Na matéria, o diretor da Escola de Comunicação, Mídia e Informação da FGV, Marco Aurelio Ruediger, comentou sobre o volume de notícias falsas, que circulam nas redes sociais, sobre as eleições. Acesse: https://t.co/ojIyfMVNt1 https://t.co/XCVeIgTjqt \n",
      "\n",
      "20 #IGP_DI | “Os preços de commodities e combustíveis continuam a orientar a desaceleração do IPA e do IPC. Contudo, o IPA antecipa maior contração das pressões inflacionárias\", explica André Braz, do @FGVIBRE. Saiba mais: https://t.co/nWhCB6KGok. #FGVÍndices https://t.co/fRDhbGPA9I \n",
      "\n",
      "*********End of Page 3*********\n"
     ]
    }
   ],
   "source": [
    "# Set the parameters for the search\n",
    "user = 'FGV'\n",
    "# Set the number of pages\n",
    "n_pages=3\n",
    "# Counter for printing the page number\n",
    "page_no = 1\n",
    "\n",
    "# Search using pagination\n",
    "pages = tweepy.Cursor(api.user_timeline, screen_name=user, tweet_mode='extended').pages(n_pages)\n",
    "\n",
    "# Iterate through the pages and print the text of the tweets\n",
    "for page in pages:    \n",
    "    for i in range(len(page)):\n",
    "        print(f\"{i+1} {page[i].full_text} \\n\")\n",
    "    print(f\"*********End of Page {page_no}*********\")\n",
    "    page_no += 1"
   ]
  },
  {
   "cell_type": "markdown",
   "id": "281b17e9-7154-4507-aba3-f8a2dd7540cb",
   "metadata": {},
   "source": [
    "## Fetching tweets based on a query\n",
    "\n",
    "Query starts with `q`..."
   ]
  },
  {
   "cell_type": "markdown",
   "id": "6b247eaa-ba2b-498f-85e9-be943bedf6b6",
   "metadata": {},
   "source": [
    "### Keywords"
   ]
  },
  {
   "cell_type": "code",
   "execution_count": 63,
   "id": "bf45a54c-0a9b-498c-88c2-8f945e365c57",
   "metadata": {},
   "outputs": [],
   "source": [
    "keyword = 'ESG'\n",
    "tweets = api.search_tweets(q=keyword, lang='en', count=5)"
   ]
  },
  {
   "cell_type": "code",
   "execution_count": 64,
   "id": "e1748ac0-6f98-41aa-8f71-79b97fc87579",
   "metadata": {},
   "outputs": [
    {
     "name": "stdout",
     "output_type": "stream",
     "text": [
      "RT @avivainvestors: 😫 Are you suffering from ESG fatigue?\n",
      "\n",
      "Abigail Herron discusses how looking at the world through a sustainable finance…\n",
      "Being an ad-reliant platform Elon would still fall victim to ESG bc advertisers are all publicly traded companies s… https://t.co/u8YeWRvB20\n",
      "RT @planck_e: Check out the latest report by Planck E about the prices and trends of the carbon and ecological credits market for the perio…\n",
      "@sullydish Can I major in white fragility? And where can i work after? \n",
      "\n",
      "Any large institution that has white guilt… https://t.co/sqsj6kRWdx\n"
     ]
    }
   ],
   "source": [
    "for tweet in tweets:\n",
    "    print(tweet.text)"
   ]
  },
  {
   "cell_type": "markdown",
   "id": "e3bb0619-8d64-4f11-b532-d178a88269b8",
   "metadata": {},
   "source": [
    "### Hashtags"
   ]
  },
  {
   "cell_type": "code",
   "execution_count": 75,
   "id": "25ff792b-83b2-4e0a-bd48-eb2fd4694f37",
   "metadata": {},
   "outputs": [],
   "source": [
    "hashtag = '#HIMYM'\n",
    "tweets = api.search_tweets(q=hashtag, lang='en', count=5)"
   ]
  },
  {
   "cell_type": "code",
   "execution_count": 76,
   "id": "da5fd2db-07b4-4f90-aa7b-12e38f28bafa",
   "metadata": {},
   "outputs": [
    {
     "name": "stdout",
     "output_type": "stream",
     "text": [
      "RT @a_delikat_: Any #HIMYM fans out there? Well #Ohio has a Superdate this November 8th! Join our phone bank next Sunday at noon to hear fr…\n",
      "Kicking off my yearly binge of #HIMYM early. #Slapsgiving miracle.\n",
      "Marshall and  Lily Broke Up....#HowIMetYourMother #HIMYM\n",
      "Restarted #HIMYM. You COULD NOT write for barney today.\n",
      "Zoë: Hey, I was in the neighborhood and I thought I'd take you up on that beer you're about to offer me. #HIMYM\n"
     ]
    }
   ],
   "source": [
    "for tweet in tweets:\n",
    "    print(tweet.text)"
   ]
  },
  {
   "cell_type": "markdown",
   "id": "23675d9b-4b05-4e0d-a8b5-541a6b8cb372",
   "metadata": {},
   "source": [
    "### Selecting tweets based on language"
   ]
  },
  {
   "cell_type": "code",
   "execution_count": 85,
   "id": "45ca5460-66c2-497d-8bd6-c46baa49700e",
   "metadata": {},
   "outputs": [],
   "source": [
    "#English\n",
    "\n",
    "keyword = 'Brazil'\n",
    "tweets = api.search_tweets(q=keyword, lang='en', count=5)"
   ]
  },
  {
   "cell_type": "code",
   "execution_count": 85,
   "id": "9efb7e28-037c-4966-8f5e-5c17f808bade",
   "metadata": {},
   "outputs": [
    {
     "name": "stdout",
     "output_type": "stream",
     "text": [
      "RT @WallStreetSilv: BREAKING: Warehouses at Rio de Janeiro's main food distribution center are on fire in Brazil, sparking riots with repor…\n",
      "RT @Cernovich: Brazil had same day results. Pretty much every country does. But not the U.S. \n",
      "\n",
      "Vote counts stop and counting takes days or…\n",
      "RT @kieran_hurley: With lots of talk of Brazil's top footballers all supporting Bolsonaro, let's take a moment to remember and pay respect…\n",
      "RT @RepMTG: Brazil is rapidly falling into civil unrest after their election and there is a complete black out on it from American media an…\n",
      "if lewis doesn't win in brazil you will lose me. i will stop giving myself the privilege to breathe. it will be my… https://t.co/LkuJjxI0Rg\n"
     ]
    }
   ],
   "source": [
    "for tweet in tweets:\n",
    "    print(tweet.text)"
   ]
  },
  {
   "cell_type": "code",
   "execution_count": 84,
   "id": "13acccfa-f5ff-4f47-a3ea-0d6e68016f80",
   "metadata": {},
   "outputs": [],
   "source": [
    "#Portuguese\n",
    "\n",
    "keyword = 'Brasil'\n",
    "tweets = api.search_tweets(q=keyword, lang='pt', count=5)"
   ]
  },
  {
   "cell_type": "code",
   "execution_count": 84,
   "id": "8c961538-201f-4240-bd1c-46c8b18e1d16",
   "metadata": {},
   "outputs": [
    {
     "name": "stdout",
     "output_type": "stream",
     "text": [
      "RT @joel_fi: Eu não tenho nenhuma dúvida de que essa bagunça no Brasil começou quando o STF resolveu acabar com a prisão em 2° instância e…\n",
      "RT @mmeioambiente: Autoridades de Brasil e Japão celebraram um acordo bilateral de fomento ao mercado regulado de crédito de carbono. Os pa…\n",
      "RT @choquei: 🚨BRASIL: Bolsonaristas comemoram em Porto Alegre-RS, uma possível prisão de Alexandre de Moraes.\n",
      "\n",
      "https://t.co/iZ7qsPxtcO\n",
      "RT @FabricioSchmitt: UM GRANDE LÍDER!!!\n",
      "\n",
      "Brasil acima de tudo, Deus acima de todos. https://t.co/1QfffpOBPe\n",
      "RT @siteptbr: 🚨 DENÚNCIA: Bolsonarista diz que se derem uma sniper para ele, mataria Lula “sem receio de pegar perpétua”, pois “estaria sal…\n"
     ]
    }
   ],
   "source": [
    "for tweet in tweets:\n",
    "    print(tweet.text)"
   ]
  },
  {
   "cell_type": "markdown",
   "id": "c4595d07-89bc-4ac4-b6d9-3d609ee967ea",
   "metadata": {},
   "source": [
    "### Limitting search to recent dates"
   ]
  },
  {
   "cell_type": "code",
   "execution_count": 94,
   "id": "8805599a-3afd-4679-81a6-6dc8d0bdf628",
   "metadata": {},
   "outputs": [],
   "source": [
    "q = 'stock market -since: 2022-5-25'\n",
    "tweets = api.search_tweets(q=q, lang='en', count=5)"
   ]
  },
  {
   "cell_type": "code",
   "execution_count": 94,
   "id": "a2fc00e1-10c6-47c5-a3d6-44cd03cb3a85",
   "metadata": {},
   "outputs": [
    {
     "name": "stdout",
     "output_type": "stream",
     "text": [
      "== tweet 1 ==\n",
      "S&amp;amp;amp;amp;P 500 Bullish\n",
      "4:30 AM Market Analysis\n",
      "2022-11-01\n",
      "04:30:00\n",
      "Price: 3915.5\n",
      "24H-Hh: 3918.5\n",
      "24H-Low: 3881.… https://t.co/yjUjEDJqTs\n",
      "== tweet 2 ==\n",
      "S&amp;amp;amp;P 500 Bullish\n",
      "4:30 AM Market Analysis\n",
      "2022-11-01\n",
      "04:30:00\n",
      "Price: 3915.5\n",
      "24H-Hh: 3918.5\n",
      "24H-Low: 3881.25\n",
      "2… https://t.co/gxwr9ocl3g\n",
      "== tweet 3 ==\n",
      "S&amp;amp;P 500 Bullish\n",
      "4:30 AM Market Analysis\n",
      "2022-11-01\n",
      "04:30:00\n",
      "Price: 3915.5\n",
      "24H-Hh: 3918.5\n",
      "24H-Low: 3881.25\n",
      "24H-V… https://t.co/YOqLSU177P\n",
      "== tweet 4 ==\n",
      "🟢S&amp;P 500 Bullish🟢\n",
      "4:30 AM Market Analysis\n",
      "2022-11-01\n",
      "04:30:00\n",
      "Price: 3915.5\n",
      "24H-High: 3918.5\n",
      "24H-Low: 3881.25\n",
      "24H-V… https://t.co/qIy9PBx6Oq\n",
      "== tweet 5 ==\n",
      "India 6th Biggest Stock Market With $3.16 tn M-Cap 2022\n",
      "\n",
      "World’s biggest stock markets by Market Cap:\n",
      "1. US: $46.01… https://t.co/6ki1zBdeyi\n"
     ]
    }
   ],
   "source": [
    "for i, tweet in enumerate(tweets):\n",
    "    print(f'== tweet {i+1} ==')\n",
    "    print(tweet.text)"
   ]
  },
  {
   "cell_type": "markdown",
   "id": "a93f6aff-873c-400e-820a-729c9b7f02ba",
   "metadata": {
    "tags": []
   },
   "source": [
    "### Same thing, but using `Cursor`"
   ]
  },
  {
   "cell_type": "code",
   "execution_count": 77,
   "id": "db41a094-dbee-46f4-8937-7ec450c122ef",
   "metadata": {},
   "outputs": [
    {
     "data": {
      "text/html": [
       "<div>\n",
       "<style scoped>\n",
       "    .dataframe tbody tr th:only-of-type {\n",
       "        vertical-align: middle;\n",
       "    }\n",
       "\n",
       "    .dataframe tbody tr th {\n",
       "        vertical-align: top;\n",
       "    }\n",
       "\n",
       "    .dataframe thead th {\n",
       "        text-align: right;\n",
       "    }\n",
       "</style>\n",
       "<table border=\"1\" class=\"dataframe\">\n",
       "  <thead>\n",
       "    <tr style=\"text-align: right;\">\n",
       "      <th></th>\n",
       "      <th>TweetId</th>\n",
       "      <th>User</th>\n",
       "      <th>Tweet</th>\n",
       "    </tr>\n",
       "  </thead>\n",
       "  <tbody>\n",
       "    <tr>\n",
       "      <th>0</th>\n",
       "      <td>1587534868451401728</td>\n",
       "      <td>Debbles47702854</td>\n",
       "      <td>RT @ingramlaw: The guy who issued moratorium o...</td>\n",
       "    </tr>\n",
       "    <tr>\n",
       "      <th>1</th>\n",
       "      <td>1587534786029301760</td>\n",
       "      <td>jsliptrap</td>\n",
       "      <td>me every time I see somebody on the internet a...</td>\n",
       "    </tr>\n",
       "    <tr>\n",
       "      <th>2</th>\n",
       "      <td>1587534742441820164</td>\n",
       "      <td>CC96118385</td>\n",
       "      <td>RT @chiproytx: Biden campaigned on ending foss...</td>\n",
       "    </tr>\n",
       "    <tr>\n",
       "      <th>3</th>\n",
       "      <td>1587534725815615490</td>\n",
       "      <td>TomLinn14</td>\n",
       "      <td>@YeRyan2001 @wintermuten1 @Alysee54 @BNONews Y...</td>\n",
       "    </tr>\n",
       "    <tr>\n",
       "      <th>4</th>\n",
       "      <td>1587534710216933377</td>\n",
       "      <td>ShannonMcLendon</td>\n",
       "      <td>RT @AdvanceEsg: Climate change made 2022’s nor...</td>\n",
       "    </tr>\n",
       "    <tr>\n",
       "      <th>5</th>\n",
       "      <td>1587534709902426112</td>\n",
       "      <td>TOMSINNEXUS</td>\n",
       "      <td>RT @DivStockpile: Sunday Afternoon Musings on ...</td>\n",
       "    </tr>\n",
       "    <tr>\n",
       "      <th>6</th>\n",
       "      <td>1587534525051052033</td>\n",
       "      <td>cjoliver1</td>\n",
       "      <td>@CGasparino great job this pm pursuing the ESG...</td>\n",
       "    </tr>\n",
       "    <tr>\n",
       "      <th>7</th>\n",
       "      <td>1587534427223097348</td>\n",
       "      <td>MarquetteUGreen</td>\n",
       "      <td>The Marquette University College of Business A...</td>\n",
       "    </tr>\n",
       "    <tr>\n",
       "      <th>8</th>\n",
       "      <td>1587534416045391872</td>\n",
       "      <td>LobbyForClimate</td>\n",
       "      <td>Climate transition plans championed by ESG inv...</td>\n",
       "    </tr>\n",
       "    <tr>\n",
       "      <th>9</th>\n",
       "      <td>1587534410898984960</td>\n",
       "      <td>chuck112233</td>\n",
       "      <td>RT @chiproytx: Biden campaigned on ending foss...</td>\n",
       "    </tr>\n",
       "  </tbody>\n",
       "</table>\n",
       "</div>"
      ],
      "text/plain": [
       "               TweetId             User  \\\n",
       "0  1587534868451401728  Debbles47702854   \n",
       "1  1587534786029301760        jsliptrap   \n",
       "2  1587534742441820164       CC96118385   \n",
       "3  1587534725815615490        TomLinn14   \n",
       "4  1587534710216933377  ShannonMcLendon   \n",
       "5  1587534709902426112      TOMSINNEXUS   \n",
       "6  1587534525051052033        cjoliver1   \n",
       "7  1587534427223097348  MarquetteUGreen   \n",
       "8  1587534416045391872  LobbyForClimate   \n",
       "9  1587534410898984960      chuck112233   \n",
       "\n",
       "                                               Tweet  \n",
       "0  RT @ingramlaw: The guy who issued moratorium o...  \n",
       "1  me every time I see somebody on the internet a...  \n",
       "2  RT @chiproytx: Biden campaigned on ending foss...  \n",
       "3  @YeRyan2001 @wintermuten1 @Alysee54 @BNONews Y...  \n",
       "4  RT @AdvanceEsg: Climate change made 2022’s nor...  \n",
       "5  RT @DivStockpile: Sunday Afternoon Musings on ...  \n",
       "6  @CGasparino great job this pm pursuing the ESG...  \n",
       "7  The Marquette University College of Business A...  \n",
       "8  Climate transition plans championed by ESG inv...  \n",
       "9  RT @chiproytx: Biden campaigned on ending foss...  "
      ]
     },
     "execution_count": 77,
     "metadata": {},
     "output_type": "execute_result"
    }
   ],
   "source": [
    "keyword = 'ESG'\n",
    "limit=10\n",
    "\n",
    "tweets = tweepy.Cursor(api.search_tweets, q=keyword, lang='en', tweet_mode='extended').items(limit)\n",
    "\n",
    "tweets2dataframe(tweets)"
   ]
  },
  {
   "cell_type": "code",
   "execution_count": 78,
   "id": "c8d360a3-af70-47cd-9c2e-81c1d3e2d465",
   "metadata": {},
   "outputs": [
    {
     "data": {
      "text/html": [
       "<div>\n",
       "<style scoped>\n",
       "    .dataframe tbody tr th:only-of-type {\n",
       "        vertical-align: middle;\n",
       "    }\n",
       "\n",
       "    .dataframe tbody tr th {\n",
       "        vertical-align: top;\n",
       "    }\n",
       "\n",
       "    .dataframe thead th {\n",
       "        text-align: right;\n",
       "    }\n",
       "</style>\n",
       "<table border=\"1\" class=\"dataframe\">\n",
       "  <thead>\n",
       "    <tr style=\"text-align: right;\">\n",
       "      <th></th>\n",
       "      <th>TweetId</th>\n",
       "      <th>User</th>\n",
       "      <th>Tweet</th>\n",
       "    </tr>\n",
       "  </thead>\n",
       "  <tbody>\n",
       "    <tr>\n",
       "      <th>0</th>\n",
       "      <td>1587534764210544640</td>\n",
       "      <td>Shuvobhai300</td>\n",
       "      <td>Is there was #WhiteWalker?  In #HOTD any chanc...</td>\n",
       "    </tr>\n",
       "    <tr>\n",
       "      <th>1</th>\n",
       "      <td>1587534743104544768</td>\n",
       "      <td>Santos94Jv</td>\n",
       "      <td>But what right does the wolf judge the lion? #GOT</td>\n",
       "    </tr>\n",
       "    <tr>\n",
       "      <th>2</th>\n",
       "      <td>1587534010875510788</td>\n",
       "      <td>freefolkbot</td>\n",
       "      <td>Lady Vhager of house Tyrell #GoT #GameofThrone...</td>\n",
       "    </tr>\n",
       "    <tr>\n",
       "      <th>3</th>\n",
       "      <td>1587533747112509440</td>\n",
       "      <td>LuisGGuz</td>\n",
       "      <td>RT @HBOMaxLA: Hace algunos años se grabó esta ...</td>\n",
       "    </tr>\n",
       "    <tr>\n",
       "      <th>4</th>\n",
       "      <td>1587533347026345996</td>\n",
       "      <td>GlaucoMaiaGFM</td>\n",
       "      <td>RT @Era7_official: – NFT Battle Card Set-II –\\...</td>\n",
       "    </tr>\n",
       "    <tr>\n",
       "      <th>5</th>\n",
       "      <td>1587532935795658752</td>\n",
       "      <td>kai_230904</td>\n",
       "      <td>RT @GOT7SocietyTH: ตอนนี้ทางบ้านเรา รับทั้งคนโ...</td>\n",
       "    </tr>\n",
       "    <tr>\n",
       "      <th>6</th>\n",
       "      <td>1587532380881010688</td>\n",
       "      <td>RedditFreeFolk</td>\n",
       "      <td>Whenever I think of a young Robert Baratheon, ...</td>\n",
       "    </tr>\n",
       "    <tr>\n",
       "      <th>7</th>\n",
       "      <td>1587532159954321408</td>\n",
       "      <td>Fact12387039</td>\n",
       "      <td>\"You are my sun and stars\" \\n\\n#burzek \\n#Chic...</td>\n",
       "    </tr>\n",
       "    <tr>\n",
       "      <th>8</th>\n",
       "      <td>1587532012516171776</td>\n",
       "      <td>Fact12387039</td>\n",
       "      <td>\"You are the moon of my life\" \\n\\n#burzek \\n#C...</td>\n",
       "    </tr>\n",
       "    <tr>\n",
       "      <th>9</th>\n",
       "      <td>1587531888700411905</td>\n",
       "      <td>SammerZamper</td>\n",
       "      <td>RT @moosebaby9000: \"Storming the Dragonpit\" fr...</td>\n",
       "    </tr>\n",
       "  </tbody>\n",
       "</table>\n",
       "</div>"
      ],
      "text/plain": [
       "               TweetId            User  \\\n",
       "0  1587534764210544640    Shuvobhai300   \n",
       "1  1587534743104544768      Santos94Jv   \n",
       "2  1587534010875510788     freefolkbot   \n",
       "3  1587533747112509440        LuisGGuz   \n",
       "4  1587533347026345996   GlaucoMaiaGFM   \n",
       "5  1587532935795658752      kai_230904   \n",
       "6  1587532380881010688  RedditFreeFolk   \n",
       "7  1587532159954321408    Fact12387039   \n",
       "8  1587532012516171776    Fact12387039   \n",
       "9  1587531888700411905    SammerZamper   \n",
       "\n",
       "                                               Tweet  \n",
       "0  Is there was #WhiteWalker?  In #HOTD any chanc...  \n",
       "1  But what right does the wolf judge the lion? #GOT  \n",
       "2  Lady Vhager of house Tyrell #GoT #GameofThrone...  \n",
       "3  RT @HBOMaxLA: Hace algunos años se grabó esta ...  \n",
       "4  RT @Era7_official: – NFT Battle Card Set-II –\\...  \n",
       "5  RT @GOT7SocietyTH: ตอนนี้ทางบ้านเรา รับทั้งคนโ...  \n",
       "6  Whenever I think of a young Robert Baratheon, ...  \n",
       "7  \"You are my sun and stars\" \\n\\n#burzek \\n#Chic...  \n",
       "8  \"You are the moon of my life\" \\n\\n#burzek \\n#C...  \n",
       "9  RT @moosebaby9000: \"Storming the Dragonpit\" fr...  "
      ]
     },
     "execution_count": 78,
     "metadata": {},
     "output_type": "execute_result"
    }
   ],
   "source": [
    "hashtag = '#GOT '\n",
    "limit=10\n",
    "\n",
    "tweets = tweepy.Cursor(api.search_tweets, q=hashtag, tweet_mode='extended').items(limit)\n",
    "\n",
    "tweets2dataframe(tweets)"
   ]
  },
  {
   "cell_type": "code",
   "execution_count": null,
   "id": "fb0e81e9-9fcd-4383-a0d1-185c16d323de",
   "metadata": {},
   "outputs": [
    {
     "data": {
      "text/html": [
       "<div>\n",
       "<style scoped>\n",
       "    .dataframe tbody tr th:only-of-type {\n",
       "        vertical-align: middle;\n",
       "    }\n",
       "\n",
       "    .dataframe tbody tr th {\n",
       "        vertical-align: top;\n",
       "    }\n",
       "\n",
       "    .dataframe thead th {\n",
       "        text-align: right;\n",
       "    }\n",
       "</style>\n",
       "<table border=\"1\" class=\"dataframe\">\n",
       "  <thead>\n",
       "    <tr style=\"text-align: right;\">\n",
       "      <th></th>\n",
       "      <th>TweetId</th>\n",
       "      <th>User</th>\n",
       "      <th>Tweet</th>\n",
       "    </tr>\n",
       "  </thead>\n",
       "  <tbody>\n",
       "    <tr>\n",
       "      <th>0</th>\n",
       "      <td>1587414673179164675</td>\n",
       "      <td>uenweabzc42098</td>\n",
       "      <td>S&amp;amp;amp;amp;amp;P 500 Bullish\\n4:30 AM Marke...</td>\n",
       "    </tr>\n",
       "    <tr>\n",
       "      <th>1</th>\n",
       "      <td>1587393612769206272</td>\n",
       "      <td>jcuiackfy97758</td>\n",
       "      <td>S&amp;amp;amp;amp;P 500 Bullish\\n4:30 AM Market An...</td>\n",
       "    </tr>\n",
       "    <tr>\n",
       "      <th>2</th>\n",
       "      <td>1587380561567285248</td>\n",
       "      <td>marwakkax11062</td>\n",
       "      <td>S&amp;amp;amp;P 500 Bullish\\n4:30 AM Market Analys...</td>\n",
       "    </tr>\n",
       "    <tr>\n",
       "      <th>3</th>\n",
       "      <td>1587361302716219392</td>\n",
       "      <td>SP500Analysis</td>\n",
       "      <td>🟢S&amp;amp;P 500 Bullish🟢\\n4:30 AM Market Analysis...</td>\n",
       "    </tr>\n",
       "    <tr>\n",
       "      <th>4</th>\n",
       "      <td>1586126211889385474</td>\n",
       "      <td>Wanderer2419</td>\n",
       "      <td>India 6th Biggest Stock Market With $3.16 tn M...</td>\n",
       "    </tr>\n",
       "    <tr>\n",
       "      <th>5</th>\n",
       "      <td>1585919640852901891</td>\n",
       "      <td>ramtpg</td>\n",
       "      <td>RT @mystocks_in: 📊BANK OF MAHARASHTRA\\n( DIWAL...</td>\n",
       "    </tr>\n",
       "    <tr>\n",
       "      <th>6</th>\n",
       "      <td>1585723012598431746</td>\n",
       "      <td>SP500Analysis</td>\n",
       "      <td>🔴S&amp;amp;P 500 Bearish🔴\\nMarket Close Analysis\\n...</td>\n",
       "    </tr>\n",
       "    <tr>\n",
       "      <th>7</th>\n",
       "      <td>1585549369536815105</td>\n",
       "      <td>SP500Analysis</td>\n",
       "      <td>🔴S&amp;amp;P 500 Bearish🔴\\n4:30 AM Market Analysis...</td>\n",
       "    </tr>\n",
       "    <tr>\n",
       "      <th>8</th>\n",
       "      <td>1585362394334855168</td>\n",
       "      <td>miroctumnews</td>\n",
       "      <td>Nasdaq snaps three-day winning streak as Big T...</td>\n",
       "    </tr>\n",
       "    <tr>\n",
       "      <th>9</th>\n",
       "      <td>1585348552607531008</td>\n",
       "      <td>nori_hamada</td>\n",
       "      <td>S&amp;amp;P 500 slides as Big Tech Microsoft and A...</td>\n",
       "    </tr>\n",
       "  </tbody>\n",
       "</table>\n",
       "</div>"
      ],
      "text/plain": [
       "               TweetId            User  \\\n",
       "0  1587414673179164675  uenweabzc42098   \n",
       "1  1587393612769206272  jcuiackfy97758   \n",
       "2  1587380561567285248  marwakkax11062   \n",
       "3  1587361302716219392   SP500Analysis   \n",
       "4  1586126211889385474    Wanderer2419   \n",
       "5  1585919640852901891          ramtpg   \n",
       "6  1585723012598431746   SP500Analysis   \n",
       "7  1585549369536815105   SP500Analysis   \n",
       "8  1585362394334855168    miroctumnews   \n",
       "9  1585348552607531008     nori_hamada   \n",
       "\n",
       "                                               Tweet  \n",
       "0  S&amp;amp;amp;amp;P 500 Bullish\\n4:30 AM Marke...  \n",
       "1  S&amp;amp;amp;P 500 Bullish\\n4:30 AM Market An...  \n",
       "2  S&amp;amp;P 500 Bullish\\n4:30 AM Market Analys...  \n",
       "3  🟢S&amp;P 500 Bullish🟢\\n4:30 AM Market Analysis...  \n",
       "4  India 6th Biggest Stock Market With $3.16 tn M...  \n",
       "5  RT @mystocks_in: 📊BANK OF MAHARASHTRA\\n( DIWAL...  \n",
       "6  🔴S&amp;P 500 Bearish🔴\\nMarket Close Analysis\\n...  \n",
       "7  🔴S&amp;P 500 Bearish🔴\\n4:30 AM Market Analysis...  \n",
       "8  Nasdaq snaps three-day winning streak as Big T...  \n",
       "9  S&amp;P 500 slides as Big Tech Microsoft and A...  "
      ]
     },
     "execution_count": 29,
     "metadata": {},
     "output_type": "execute_result"
    }
   ],
   "source": [
    "\n",
    "keywords = \"stock + market\"\n",
    "date_since = \" -since: 2022-5-25\"\n",
    "search = keywords + date_since\n",
    "limit = 10\n",
    "\n",
    "#Search tweets\n",
    "tweets = tweepy.Cursor(api.search_tweets,\n",
    "                       q=search,\n",
    "                       lang=\"en\", tweet_mode='extended').items(limit)\n",
    "\n",
    "#Make dataframe\n",
    "tweets2dataframe(tweets)"
   ]
  },
  {
   "cell_type": "markdown",
   "id": "99b8756d-3d44-4d57-a6c6-a8ac92886c56",
   "metadata": {
    "tags": []
   },
   "source": [
    "### Final comments\n",
    "\n",
    "* Limit Rate\n",
    "* What about other social networks?\n",
    "* What about other APIs? (e.g. for Google Maps, governmental websites etc.?)"
   ]
  }
 ],
 "metadata": {
  "kernelspec": {
   "display_name": "Python 3 (ipykernel)",
   "language": "python",
   "name": "python3"
  },
  "language_info": {
   "codemirror_mode": {
    "name": "ipython",
    "version": 3
   },
   "file_extension": ".py",
   "mimetype": "text/x-python",
   "name": "python",
   "nbconvert_exporter": "python",
   "pygments_lexer": "ipython3",
   "version": "3.9.12"
  }
 },
 "nbformat": 4,
 "nbformat_minor": 5
}
